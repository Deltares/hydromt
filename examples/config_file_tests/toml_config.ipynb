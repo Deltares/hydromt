{
 "cells": [
  {
   "cell_type": "code",
   "execution_count": 1,
   "metadata": {},
   "outputs": [],
   "source": [
    "import toml\n",
    "from hydromt.config import configread"
   ]
  },
  {
   "cell_type": "code",
   "execution_count": 3,
   "metadata": {},
   "outputs": [
    {
     "data": {
      "text/plain": [
       "{'setup_config': {'header.settings': 'value',\n",
       "  'timers.start': '2010-02-05',\n",
       "  'timers.end': '2010-02-15'},\n",
       " 'setup_region': {'hydrography_fn': 'merit_hydro',\n",
       "  'basin_index_fn': 'merit_hydro_index'},\n",
       " 'setup_maps_from_raster': {'raster_fn': 'merit_hydro_1k',\n",
       "  'variables': 'elevtn',\n",
       "  'fill_method': None,\n",
       "  'reproject_method': None},\n",
       " 'setup_maps_from_raster_reclass': {'raster_fn': 'vito',\n",
       "  'reclass_table_fn': 'vito_reclass',\n",
       "  'reclass_variables': ['manning']},\n",
       " 'write': {'components': ['config', 'geoms', 'maps']}}"
      ]
     },
     "execution_count": 3,
     "metadata": {},
     "output_type": "execute_result"
    }
   ],
   "source": [
    "# testing with grid_model_build.ini\n",
    "config_fn = \"../grid_model_build.ini\"\n",
    "config_dict = configread(config_fn)"
   ]
  },
  {
   "cell_type": "code",
   "execution_count": 4,
   "metadata": {},
   "outputs": [
    {
     "data": {
      "text/plain": [
       "'[setup_config]\\n\"header.settings\" = \"value\"\\n\"timers.start\" = \"2010-02-05\"\\n\"timers.end\" = \"2010-02-15\"\\n\\n[setup_region]\\nhydrography_fn = \"merit_hydro\"\\nbasin_index_fn = \"merit_hydro_index\"\\n\\n[setup_maps_from_raster]\\nraster_fn = \"merit_hydro_1k\"\\nvariables = \"elevtn\"\\n\\n[setup_maps_from_raster_reclass]\\nraster_fn = \"vito\"\\nreclass_table_fn = \"vito_reclass\"\\nreclass_variables = [ \"manning\",]\\n\\n[write]\\ncomponents = [ \"config\", \"geoms\", \"maps\",]\\n'"
      ]
     },
     "execution_count": 4,
     "metadata": {},
     "output_type": "execute_result"
    }
   ],
   "source": [
    "toml_string = toml.dumps(config_dict)\n",
    "toml_string"
   ]
  },
  {
   "cell_type": "code",
   "execution_count": 5,
   "metadata": {},
   "outputs": [],
   "source": [
    "outputfile = \"test_toml.toml\"\n",
    "with open(outputfile, \"w\") as toml_file:\n",
    "    toml.dump(config_dict, toml_file)"
   ]
  },
  {
   "cell_type": "code",
   "execution_count": 4,
   "metadata": {},
   "outputs": [],
   "source": [
    "# Converting a ini file with a list of dicts as an argument\n",
    "config_dict = configread(config_fn=\"test_ini.ini\")\n",
    "outputfile = \"example_toml.toml\"\n",
    "with open(outputfile, \"w\") as toml_file:\n",
    "    toml.dump(config_dict, toml_file)\n"
   ]
  },
  {
   "cell_type": "code",
   "execution_count": 5,
   "metadata": {},
   "outputs": [
    {
     "data": {
      "text/plain": [
       "{'setup_dep': {'datasets_dep': [{'dep_fn': 'merit_hydro',\n",
       "    'zmax': 10,\n",
       "    'zmin': -5},\n",
       "   {'dep_fn': 'gebco', 'offset': 1, 'zmax': 0}]}}"
      ]
     },
     "execution_count": 5,
     "metadata": {},
     "output_type": "execute_result"
    }
   ],
   "source": [
    "# Reading toml file\n",
    "with open(outputfile) as toml_file:\n",
    "    toml_dict = toml.load(toml_file)\n",
    "\n",
    "toml_dict"
   ]
  },
  {
   "cell_type": "code",
   "execution_count": 7,
   "metadata": {},
   "outputs": [
    {
     "data": {
      "text/plain": [
       "True"
      ]
     },
     "execution_count": 7,
     "metadata": {},
     "output_type": "execute_result"
    }
   ],
   "source": [
    "toml_dict == config_dict"
   ]
  },
  {
   "cell_type": "code",
   "execution_count": 25,
   "metadata": {},
   "outputs": [],
   "source": [
    "# Converting the example wflow ini to toml\n",
    "config_dict = configread(config_fn=\"wflow_build.ini\")\n",
    "outputfile = \"wflow_build.toml\"\n",
    "with open(outputfile, \"w\") as toml_file:\n",
    "    toml.dump(config_dict, toml_file)\n",
    "\n",
    "with open(outputfile) as toml_file:\n",
    "    toml_dict = toml.load(toml_file)\n"
   ]
  },
  {
   "cell_type": "code",
   "execution_count": 26,
   "metadata": {},
   "outputs": [],
   "source": [
    "from unittest import TestCase\n",
    "testcase = TestCase()\n",
    "testcase.maxDiff = None\n",
    "testcase.assertDictEqual(toml_dict, config_dict)"
   ]
  },
  {
   "attachments": {},
   "cell_type": "markdown",
   "metadata": {},
   "source": [
    "Wflow_build.toml and wflow_build.ini are not equivalents. the toml file format does not recognize None values and will thus not include precip_clim_fn under setup_precip_forcing. A solution would be to change None to an empty inline table or change it to false. However, the latter option could be confusing for users since the argument is normally not boolean. "
   ]
  },
  {
   "cell_type": "markdown",
   "metadata": {},
   "source": []
  }
 ],
 "metadata": {
  "kernelspec": {
   "display_name": "hydromt-dev",
   "language": "python",
   "name": "python3"
  },
  "language_info": {
   "codemirror_mode": {
    "name": "ipython",
    "version": 3
   },
   "file_extension": ".py",
   "mimetype": "text/x-python",
   "name": "python",
   "nbconvert_exporter": "python",
   "pygments_lexer": "ipython3",
   "version": "3.10.8"
  },
  "orig_nbformat": 4,
  "vscode": {
   "interpreter": {
    "hash": "8138b72b0e304ba55d14e4dcf8d650296065d1ee95f3f67a239b6fbf5f7328dd"
   }
  }
 },
 "nbformat": 4,
 "nbformat_minor": 2
}
