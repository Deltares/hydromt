{
 "cells": [
  {
   "cell_type": "markdown",
   "id": "ed96fc32",
   "metadata": {},
   "source": [
    "## Example: Define hydrological model regions"
   ]
  },
  {
   "cell_type": "markdown",
   "id": "dd85bda0",
   "metadata": {},
   "source": [
    "The first step when building a model is to define the model domain. For hydrological models this is typically a full **basin** or **sub-basin** which includes all upstream cells. For hydrodynamic models this can also be an **inter-basin** which does not necessary include all upstream cells. *HydroMT* has the [get_basin_geometry()](https://deltares.github.io/hydromt/latest/_generated/hydromt.workflows.basin_mask.get_basin_geometry.html) method to do just that. "
   ]
  },
  {
   "cell_type": "markdown",
   "id": "fdb9b6c9",
   "metadata": {},
   "source": [
    "### Import packages"
   ]
  },
  {
   "cell_type": "code",
   "execution_count": null,
   "id": "02e9ac3f",
   "metadata": {},
   "outputs": [],
   "source": [
    "import numpy as np\n",
    "import geopandas as gpd\n",
    "from shapely.geometry import box\n",
    "from pprint import pprint"
   ]
  },
  {
   "cell_type": "code",
   "execution_count": null,
   "id": "cd8f470d",
   "metadata": {},
   "outputs": [],
   "source": [
    "# for plotting\n",
    "import matplotlib.pyplot as plt\n",
    "import cartopy.io.img_tiles as cimgt\n",
    "import cartopy.crs as ccrs\n",
    "\n",
    "proj = ccrs.PlateCarree()  # plot projection"
   ]
  },
  {
   "cell_type": "code",
   "execution_count": null,
   "id": "efdc15a6",
   "metadata": {},
   "outputs": [],
   "source": [
    "# import hydromt\n",
    "import hydromt\n",
    "from hydromt.workflows import get_basin_geometry\n",
    "from hydromt.log import setuplog\n",
    "\n",
    "# setup logging\n",
    "logger = setuplog(\"basin_delineation\", log_level=10)"
   ]
  },
  {
   "cell_type": "markdown",
   "id": "d72498d7",
   "metadata": {},
   "source": [
    "### Read data"
   ]
  },
  {
   "cell_type": "markdown",
   "id": "5aefb923",
   "metadata": {},
   "source": [
    "Read data using the [DataCatalog](https://deltares.github.io/hydromt/latest/_generated/hydromt.data_catalog.DataCatalog.html). If no yml files with data sources are provided, by default data for the Piave basin is downloaded from the hydromt-artifacts to to `~/.hydromt_data/`. Links to the original data sources and data licenses can be found in the meta dict of each source. Here we use flow direction data from [MERIT Hydro](http://hydro.iis.u-tokyo.ac.jp/~yamadai/MERIT_Hydro). Note that the original `'MERIT Hydro'` data has been extended with a basin mask layer, which together with the basin index vector data makes faster basin delineation possible."
   ]
  },
  {
   "cell_type": "code",
   "execution_count": null,
   "id": "a656ae07",
   "metadata": {},
   "outputs": [],
   "source": [
    "# instantiate instance of Data Catalog\n",
    "data_catalog = hydromt.DataCatalog(logger=logger, data_libs=[\"artifact_data=v0.0.8\"])"
   ]
  },
  {
   "cell_type": "code",
   "execution_count": null,
   "id": "b616f4d4",
   "metadata": {},
   "outputs": [],
   "source": [
    "# read MERIT hydro flow direction data\n",
    "print(data_catalog[\"merit_hydro\"])\n",
    "ds = data_catalog.get_rasterdataset(\"merit_hydro\")"
   ]
  },
  {
   "cell_type": "code",
   "execution_count": null,
   "id": "d37776e8",
   "metadata": {},
   "outputs": [],
   "source": [
    "# read MERIT hydro basin index vector data. This data contains bounding box geometries of all basins globally.\n",
    "# Here we pass the GeoDataFrameAdapter instead of the GeoDataFrame itself\n",
    "# a spatial subset of the data loaded within the get_basin_geometry method\n",
    "print(data_catalog[\"merit_hydro_index\"])\n",
    "basin_index = data_catalog[\"merit_hydro_index\"]"
   ]
  },
  {
   "cell_type": "code",
   "execution_count": null,
   "id": "8de1ac13",
   "metadata": {},
   "outputs": [],
   "source": [
    "# derive river geometry based on stream order >= 7 (for plotting only)\n",
    "flwdir = hydromt.flw.flwdir_from_da(ds[\"flwdir\"], ftype=\"d8\")\n",
    "feats = flwdir.streams(mask=ds[\"strord\"] >= 7)\n",
    "gdf_riv = gpd.GeoDataFrame.from_features(feats)\n",
    "\n",
    "\n",
    "def plot(extent, gdf_bas, gdf_out):\n",
    "    fig = plt.figure(figsize=(3, 5))\n",
    "    ax = plt.subplot(projection=proj)\n",
    "    ax.set_extent(extent, crs=proj)\n",
    "    ax.add_image(cimgt.QuadtreeTiles(), 10)\n",
    "    gdf_bas.boundary.plot(ax=ax, edgecolor=\"k\", zorder=2)\n",
    "    gdf_riv.plot(ax=ax, color=\"blue\", alpha=0.7)\n",
    "    gdf_out.plot(ax=ax, markersize=40, c=\"red\", zorder=2)\n",
    "    return ax"
   ]
  },
  {
   "cell_type": "markdown",
   "id": "d8b9867d",
   "metadata": {},
   "source": [
    "### Delineate basins"
   ]
  },
  {
   "cell_type": "markdown",
   "id": "3639c6d9",
   "metadata": {},
   "source": [
    "Several examples to delineate sub-, inter- or full basins are provided below together with the command line interface (CLI) syntax for the HydroMT [build](../user_guide/model_build.rst) command. All CLI options are described in the [parse_region()](https://deltares.github.io/hydromt/latest/_generated/hydromt.workflows.basin_mask.parse_region.html) method."
   ]
  },
  {
   "cell_type": "markdown",
   "id": "aff9722c",
   "metadata": {},
   "source": [
    "Get the basin based on a point location `[x, y]`."
   ]
  },
  {
   "cell_type": "code",
   "execution_count": null,
   "id": "d807ba3d",
   "metadata": {},
   "outputs": [],
   "source": [
    "# CLI syntax: -r {'basin': [x, y]}\n",
    "# e.g.: -r {'basin': [12.6, 45.8]}\n",
    "\n",
    "xy = [12.6, 45.8]\n",
    "gdf_bas, _ = get_basin_geometry(\n",
    "    ds,\n",
    "    kind=\"basin\",\n",
    "    xy=xy,\n",
    "    basin_index=basin_index,\n",
    "    logger=logger,\n",
    ")"
   ]
  },
  {
   "cell_type": "code",
   "execution_count": null,
   "id": "8122a788",
   "metadata": {},
   "outputs": [],
   "source": [
    "# plot results\n",
    "gdf_xy = gpd.GeoDataFrame(geometry=gpd.points_from_xy(x=[xy[0]], y=[xy[1]]), crs=4326)\n",
    "extent = np.array(gdf_bas.buffer(0.1).total_bounds)[[0, 2, 1, 3]]\n",
    "\n",
    "plot(extent, gdf_bas, gdf_xy)"
   ]
  },
  {
   "cell_type": "markdown",
   "id": "a577fedd",
   "metadata": {},
   "source": [
    "### Delineate sub-basins"
   ]
  },
  {
   "cell_type": "markdown",
   "id": "75aa9f37",
   "metadata": {},
   "source": [
    "We need an initial bounding box to delineate the sub-basin. This can be derived from the *merit_hydro_index* or user provided initial `bounds`. \n",
    "The latter might be faster if delineating a small sub-basin from a large basin. A warning is raised if not all contributing cells are included."
   ]
  },
  {
   "cell_type": "markdown",
   "id": "c07f9571",
   "metadata": {},
   "source": [
    "Get a subbasin based on its outlet location `[x,y]`, snapped to a stream defined by a `<variable>:<threshold>` pair, in this case a stream order larger or equal to 7. The `variable` should be present in the dataset `ds`. "
   ]
  },
  {
   "cell_type": "code",
   "execution_count": null,
   "id": "2e2aaf49",
   "metadata": {},
   "outputs": [],
   "source": [
    "# CLI syntax: -r {'subbasin': [x, y], <variable>: <threshold>, 'bounds': [xmin, ymin, xmax, ymax]}\n",
    "# e.g.: -r {'subbasin': [12.6, 45.8], 'strord': 7, 'bounds': [12.1, 45.5, 12.9, 46.5]}\n",
    "\n",
    "xy = [12.6, 45.8]\n",
    "bounds = [12.1, 45.5, 12.9, 46.5]\n",
    "gdf_bas, gdf_out = get_basin_geometry(\n",
    "    ds,\n",
    "    kind=\"subbasin\",\n",
    "    xy=xy,\n",
    "    strord=7,\n",
    "    bounds=bounds,\n",
    "    logger=logger,\n",
    ")"
   ]
  },
  {
   "cell_type": "code",
   "execution_count": null,
   "id": "2a561ffd",
   "metadata": {},
   "outputs": [],
   "source": [
    "# plot results\n",
    "gdf_bounds = gpd.GeoDataFrame(geometry=[box(*bounds)], crs=4326)\n",
    "extent = gdf_bounds.buffer(0.05).total_bounds[[0, 2, 1, 3]]\n",
    "\n",
    "ax = plot(extent, gdf_bas, gdf_out)\n",
    "gdf_bounds.boundary.plot(ax=ax, edgecolor=\"k\", ls=\"--\")"
   ]
  },
  {
   "cell_type": "markdown",
   "id": "6f130aca",
   "metadata": {},
   "source": [
    "Get a sub-basin based on the location where the stream flows out of a `bbox`. Here the stream defined by a `<variable>:<threshold>` pair, in this case a stream order larger or equal to 8. The `variable` should be present in the dataset `ds`. "
   ]
  },
  {
   "cell_type": "code",
   "execution_count": null,
   "id": "bf21c1ff",
   "metadata": {},
   "outputs": [],
   "source": [
    "# CLI SYNTAX: -r {'subbasin': [xmin, ymin, xmax, ymax], <variable>: <threshold>}\n",
    "# e.g.: -r {'subbasin': [12.50, 45.72, 12.7, 46], 'strord': 8}\n",
    "\n",
    "bbox = [12.50, 45.72, 12.7, 46]\n",
    "gdf_bas, gdf_out = get_basin_geometry(\n",
    "    ds,\n",
    "    kind=\"subbasin\",\n",
    "    bbox=bbox,\n",
    "    strord=8,\n",
    "    basin_index=basin_index,\n",
    "    logger=logger,\n",
    ")"
   ]
  },
  {
   "cell_type": "code",
   "execution_count": null,
   "id": "8ef9c429",
   "metadata": {},
   "outputs": [],
   "source": [
    "# plot results\n",
    "gdf_bbox = gpd.GeoDataFrame(geometry=[box(*bbox)], crs=4326)\n",
    "extent = gdf_bas.buffer(0.05).total_bounds[[0, 2, 1, 3]]\n",
    "\n",
    "ax = plot(extent, gdf_bas, gdf_out)\n",
    "gdf_bbox.boundary.plot(ax=ax, edgecolor=\"r\", ls=\"-\")"
   ]
  },
  {
   "cell_type": "markdown",
   "id": "7a178a0d",
   "metadata": {},
   "source": [
    "### Delineate interbasins"
   ]
  },
  {
   "cell_type": "markdown",
   "id": "9e158397",
   "metadata": {},
   "source": [
    "Get an inter-basin based on the streams within a `bbox`. The inter-basin is limited to the most downstream contiguous area within the bbox that drains to the stream.  Here the stream defined by a `<variable>:<threshold>` pair, in this case a stream order larger or equal to 8. The `variable` should be present in the dataset `ds`. The `buffer` is required to check wether streams flow in and out of the bbox. "
   ]
  },
  {
   "cell_type": "code",
   "execution_count": null,
   "id": "c84daca3",
   "metadata": {},
   "outputs": [],
   "source": [
    "# CLI SYNTAX -r {'interbasin': [xmin, ymin, xmax, ymax], <variable>: <threshold>}\n",
    "# e.g.: -r {'interbasin': [12.50, 45.72, 12.7, 46], 'strord': 8}\n",
    "\n",
    "bbox = [12.50, 45.72, 12.7, 46]\n",
    "gdf_bas, gdf_out = get_basin_geometry(\n",
    "    ds,\n",
    "    kind=\"interbasin\",\n",
    "    bbox=bbox,\n",
    "    strord=8,\n",
    "    buffer=20,\n",
    "    logger=logger,\n",
    ")"
   ]
  },
  {
   "cell_type": "code",
   "execution_count": null,
   "id": "ca8489df",
   "metadata": {},
   "outputs": [],
   "source": [
    "# plot results\n",
    "gdf_bbox = gpd.GeoDataFrame(geometry=[box(*bbox)], crs=4326)\n",
    "extent = gdf_bbox.buffer(0.02).total_bounds[[0, 2, 1, 3]]\n",
    "\n",
    "ax = plot(extent, gdf_bas, gdf_out)\n",
    "gdf_bbox.boundary.plot(ax=ax, edgecolor=\"r\", ls=\"-\", zorder=1)"
   ]
  }
 ],
 "metadata": {
  "kernelspec": {
   "display_name": "hydromt-dev",
   "language": "python",
   "name": "python3"
  },
  "language_info": {
   "codemirror_mode": {
    "name": "ipython",
    "version": 3
   },
   "file_extension": ".py",
   "mimetype": "text/x-python",
   "name": "python",
   "nbconvert_exporter": "python",
   "pygments_lexer": "ipython3",
   "version": "3.10.8"
  },
  "vscode": {
   "interpreter": {
    "hash": "8138b72b0e304ba55d14e4dcf8d650296065d1ee95f3f67a239b6fbf5f7328dd"
   }
  }
 },
 "nbformat": 4,
 "nbformat_minor": 5
}
