{
 "cells": [
  {
   "attachments": {},
   "cell_type": "markdown",
   "id": "f83e6cfc",
   "metadata": {},
   "source": [
    "## Example: Exporting data from a data catalog"
   ]
  },
  {
   "attachments": {},
   "cell_type": "markdown",
   "id": "72e03fec",
   "metadata": {},
   "source": [
    "This example illustrates the how to read and export data for a specific region / dates using the HydroMT [DataCatalog](https://deltares.github.io/hydromt/latest/_generated/hydromt.data_catalog.DataCatalog.html) and the `export_data` method."
   ]
  },
  {
   "cell_type": "code",
   "execution_count": 1,
   "id": "86d84a99",
   "metadata": {},
   "outputs": [
    {
     "ename": "PydanticUserError",
     "evalue": "A non-annotated attribute was detected: `preferred_extension = '.zarr'`. All model fields require a type annotation; if `preferred_extension` is not meant to be a field, you may be able to resolve this error by annotating it as a `ClassVar` or updating `model_config['ignored_types']`.\n\nFor further information visit https://errors.pydantic.dev/2.8/u/model-field-missing-annotation",
     "output_type": "error",
     "traceback": [
      "\u001b[0;31m---------------------------------------------------------------------------\u001b[0m",
      "\u001b[0;31mPydanticUserError\u001b[0m                         Traceback (most recent call last)",
      "Cell \u001b[0;32mIn[1], line 2\u001b[0m\n\u001b[1;32m      1\u001b[0m \u001b[38;5;66;03m# import hydromt\u001b[39;00m\n\u001b[0;32m----> 2\u001b[0m \u001b[38;5;28;01mimport\u001b[39;00m \u001b[38;5;21;01mhydromt\u001b[39;00m\n",
      "File \u001b[0;32m~/open_source/hydromt/hydromt/__init__.py:16\u001b[0m\n\u001b[1;32m     13\u001b[0m \u001b[38;5;28;01mimport\u001b[39;00m \u001b[38;5;21;01mnetCDF4\u001b[39;00m  \u001b[38;5;66;03m# noqa: F401\u001b[39;00m\n\u001b[1;32m     15\u001b[0m \u001b[38;5;66;03m# submodules\u001b[39;00m\n\u001b[0;32m---> 16\u001b[0m \u001b[38;5;28;01mfrom\u001b[39;00m \u001b[38;5;21;01m.\u001b[39;00m \u001b[38;5;28;01mimport\u001b[39;00m _io, data_catalog, gis, model, stats\n\u001b[1;32m     18\u001b[0m \u001b[38;5;66;03m# high-level methods\u001b[39;00m\n\u001b[1;32m     19\u001b[0m \u001b[38;5;28;01mfrom\u001b[39;00m \u001b[38;5;21;01m.\u001b[39;00m\u001b[38;5;21;01mdata_catalog\u001b[39;00m \u001b[38;5;28;01mimport\u001b[39;00m DataCatalog\n",
      "File \u001b[0;32m~/open_source/hydromt/hydromt/data_catalog/__init__.py:3\u001b[0m\n\u001b[1;32m      1\u001b[0m \u001b[38;5;124;03m\"\"\"Module for managing data catalogs and components, such as data sources, drivers, adapters and uri_resolvers.\"\"\"\u001b[39;00m\n\u001b[0;32m----> 3\u001b[0m \u001b[38;5;28;01mfrom\u001b[39;00m \u001b[38;5;21;01m.\u001b[39;00m\u001b[38;5;21;01mdata_catalog\u001b[39;00m \u001b[38;5;28;01mimport\u001b[39;00m DataCatalog\n\u001b[1;32m      4\u001b[0m \u001b[38;5;28;01mfrom\u001b[39;00m \u001b[38;5;21;01m.\u001b[39;00m\u001b[38;5;21;01mpredefined_catalog\u001b[39;00m \u001b[38;5;28;01mimport\u001b[39;00m PredefinedCatalog\n\u001b[1;32m      6\u001b[0m __all__ \u001b[38;5;241m=\u001b[39m [\u001b[38;5;124m\"\u001b[39m\u001b[38;5;124mDataCatalog\u001b[39m\u001b[38;5;124m\"\u001b[39m, \u001b[38;5;124m\"\u001b[39m\u001b[38;5;124mPredefinedCatalog\u001b[39m\u001b[38;5;124m\"\u001b[39m]\n",
      "File \u001b[0;32m~/open_source/hydromt/hydromt/data_catalog/data_catalog.py:59\u001b[0m\n\u001b[1;32m     48\u001b[0m \u001b[38;5;28;01mfrom\u001b[39;00m \u001b[38;5;21;01mhydromt\u001b[39;00m\u001b[38;5;21;01m.\u001b[39;00m\u001b[38;5;21;01mdata_catalog\u001b[39;00m\u001b[38;5;21;01m.\u001b[39;00m\u001b[38;5;21;01madapters\u001b[39;00m \u001b[38;5;28;01mimport\u001b[39;00m (\n\u001b[1;32m     49\u001b[0m     DataFrameAdapter,\n\u001b[1;32m     50\u001b[0m     DatasetAdapter,\n\u001b[0;32m   (...)\u001b[0m\n\u001b[1;32m     53\u001b[0m     RasterDatasetAdapter,\n\u001b[1;32m     54\u001b[0m )\n\u001b[1;32m     55\u001b[0m \u001b[38;5;28;01mfrom\u001b[39;00m \u001b[38;5;21;01mhydromt\u001b[39;00m\u001b[38;5;21;01m.\u001b[39;00m\u001b[38;5;21;01mdata_catalog\u001b[39;00m\u001b[38;5;21;01m.\u001b[39;00m\u001b[38;5;21;01mpredefined_catalog\u001b[39;00m \u001b[38;5;28;01mimport\u001b[39;00m (\n\u001b[1;32m     56\u001b[0m     PredefinedCatalog,\n\u001b[1;32m     57\u001b[0m     _copy_file,\n\u001b[1;32m     58\u001b[0m )\n\u001b[0;32m---> 59\u001b[0m \u001b[38;5;28;01mfrom\u001b[39;00m \u001b[38;5;21;01mhydromt\u001b[39;00m\u001b[38;5;21;01m.\u001b[39;00m\u001b[38;5;21;01mdata_catalog\u001b[39;00m\u001b[38;5;21;01m.\u001b[39;00m\u001b[38;5;21;01msources\u001b[39;00m \u001b[38;5;28;01mimport\u001b[39;00m (\n\u001b[1;32m     60\u001b[0m     DataFrameSource,\n\u001b[1;32m     61\u001b[0m     DatasetSource,\n\u001b[1;32m     62\u001b[0m     DataSource,\n\u001b[1;32m     63\u001b[0m     GeoDataFrameSource,\n\u001b[1;32m     64\u001b[0m     GeoDatasetSource,\n\u001b[1;32m     65\u001b[0m     RasterDatasetSource,\n\u001b[1;32m     66\u001b[0m     create_source,\n\u001b[1;32m     67\u001b[0m )\n\u001b[1;32m     68\u001b[0m \u001b[38;5;28;01mfrom\u001b[39;00m \u001b[38;5;21;01mhydromt\u001b[39;00m\u001b[38;5;21;01m.\u001b[39;00m\u001b[38;5;21;01mgis\u001b[39;00m\u001b[38;5;21;01m.\u001b[39;00m\u001b[38;5;21;01m_gis_utils\u001b[39;00m \u001b[38;5;28;01mimport\u001b[39;00m _parse_geom_bbox_buffer\n\u001b[1;32m     69\u001b[0m \u001b[38;5;28;01mfrom\u001b[39;00m \u001b[38;5;21;01mhydromt\u001b[39;00m\u001b[38;5;21;01m.\u001b[39;00m\u001b[38;5;21;01mplugins\u001b[39;00m \u001b[38;5;28;01mimport\u001b[39;00m PLUGINS\n",
      "File \u001b[0;32m~/open_source/hydromt/hydromt/data_catalog/sources/__init__.py:4\u001b[0m\n\u001b[1;32m      1\u001b[0m \u001b[38;5;124;03m\"\"\"DataSources responsible for validating the DataCatalog.\"\"\"\u001b[39;00m\n\u001b[1;32m      3\u001b[0m \u001b[38;5;66;03m# importing all data sources for discovery, factory needs to be imported last.\u001b[39;00m\n\u001b[0;32m----> 4\u001b[0m \u001b[38;5;28;01mfrom\u001b[39;00m \u001b[38;5;21;01m.\u001b[39;00m\u001b[38;5;21;01mdata_source\u001b[39;00m \u001b[38;5;28;01mimport\u001b[39;00m DataSource  \u001b[38;5;66;03m# noqa: I001\u001b[39;00m\n\u001b[1;32m      5\u001b[0m \u001b[38;5;28;01mfrom\u001b[39;00m \u001b[38;5;21;01m.\u001b[39;00m\u001b[38;5;21;01mdataframe\u001b[39;00m \u001b[38;5;28;01mimport\u001b[39;00m DataFrameSource\n\u001b[1;32m      6\u001b[0m \u001b[38;5;28;01mfrom\u001b[39;00m \u001b[38;5;21;01m.\u001b[39;00m\u001b[38;5;21;01mdataset\u001b[39;00m \u001b[38;5;28;01mimport\u001b[39;00m DatasetSource\n",
      "File \u001b[0;32m~/open_source/hydromt/hydromt/data_catalog/sources/data_source.py:25\u001b[0m\n\u001b[1;32m     23\u001b[0m \u001b[38;5;28;01mfrom\u001b[39;00m \u001b[38;5;21;01mhydromt\u001b[39;00m\u001b[38;5;21;01m.\u001b[39;00m\u001b[38;5;21;01m_utils\u001b[39;00m\u001b[38;5;21;01m.\u001b[39;00m\u001b[38;5;21;01muris\u001b[39;00m \u001b[38;5;28;01mimport\u001b[39;00m _is_valid_url\n\u001b[1;32m     24\u001b[0m \u001b[38;5;28;01mfrom\u001b[39;00m \u001b[38;5;21;01mhydromt\u001b[39;00m\u001b[38;5;21;01m.\u001b[39;00m\u001b[38;5;21;01mdata_catalog\u001b[39;00m\u001b[38;5;21;01m.\u001b[39;00m\u001b[38;5;21;01madapters\u001b[39;00m\u001b[38;5;21;01m.\u001b[39;00m\u001b[38;5;21;01mdata_adapter_base\u001b[39;00m \u001b[38;5;28;01mimport\u001b[39;00m DataAdapterBase\n\u001b[0;32m---> 25\u001b[0m \u001b[38;5;28;01mfrom\u001b[39;00m \u001b[38;5;21;01mhydromt\u001b[39;00m\u001b[38;5;21;01m.\u001b[39;00m\u001b[38;5;21;01mdata_catalog\u001b[39;00m\u001b[38;5;21;01m.\u001b[39;00m\u001b[38;5;21;01mdrivers\u001b[39;00m \u001b[38;5;28;01mimport\u001b[39;00m BaseDriver\n\u001b[1;32m     26\u001b[0m \u001b[38;5;28;01mfrom\u001b[39;00m \u001b[38;5;21;01mhydromt\u001b[39;00m\u001b[38;5;21;01m.\u001b[39;00m\u001b[38;5;21;01mdata_catalog\u001b[39;00m\u001b[38;5;21;01m.\u001b[39;00m\u001b[38;5;21;01muri_resolvers\u001b[39;00m \u001b[38;5;28;01mimport\u001b[39;00m ConventionResolver, URIResolver\n\u001b[1;32m     28\u001b[0m logger: Logger \u001b[38;5;241m=\u001b[39m getLogger(\u001b[38;5;18m__name__\u001b[39m)\n",
      "File \u001b[0;32m~/open_source/hydromt/hydromt/data_catalog/drivers/__init__.py:15\u001b[0m\n\u001b[1;32m     13\u001b[0m \u001b[38;5;28;01mfrom\u001b[39;00m \u001b[38;5;21;01m.\u001b[39;00m\u001b[38;5;21;01mgeodataset\u001b[39;00m \u001b[38;5;28;01mimport\u001b[39;00m GeoDatasetDriver, GeoDatasetVectorDriver, GeoDatasetXarrayDriver\n\u001b[1;32m     14\u001b[0m \u001b[38;5;28;01mfrom\u001b[39;00m \u001b[38;5;21;01m.\u001b[39;00m\u001b[38;5;21;01mraster\u001b[39;00m\u001b[38;5;21;01m.\u001b[39;00m\u001b[38;5;21;01mraster_dataset_driver\u001b[39;00m \u001b[38;5;28;01mimport\u001b[39;00m RasterDatasetDriver\n\u001b[0;32m---> 15\u001b[0m \u001b[38;5;28;01mfrom\u001b[39;00m \u001b[38;5;21;01m.\u001b[39;00m\u001b[38;5;21;01mraster\u001b[39;00m\u001b[38;5;21;01m.\u001b[39;00m\u001b[38;5;21;01mraster_xarray_driver\u001b[39;00m \u001b[38;5;28;01mimport\u001b[39;00m RasterDatasetXarrayDriver\n\u001b[1;32m     16\u001b[0m \u001b[38;5;28;01mfrom\u001b[39;00m \u001b[38;5;21;01m.\u001b[39;00m\u001b[38;5;21;01mraster\u001b[39;00m\u001b[38;5;21;01m.\u001b[39;00m\u001b[38;5;21;01mrasterio_driver\u001b[39;00m \u001b[38;5;28;01mimport\u001b[39;00m RasterioDriver\n\u001b[1;32m     18\u001b[0m __all__ \u001b[38;5;241m=\u001b[39m [\n\u001b[1;32m     19\u001b[0m     \u001b[38;5;124m\"\u001b[39m\u001b[38;5;124mBaseDriver\u001b[39m\u001b[38;5;124m\"\u001b[39m,\n\u001b[1;32m     20\u001b[0m     \u001b[38;5;124m\"\u001b[39m\u001b[38;5;124mDatasetDriver\u001b[39m\u001b[38;5;124m\"\u001b[39m,\n\u001b[0;32m   (...)\u001b[0m\n\u001b[1;32m     36\u001b[0m     \u001b[38;5;124m\"\u001b[39m\u001b[38;5;124m_to_datetimeindex\u001b[39m\u001b[38;5;124m\"\u001b[39m,\n\u001b[1;32m     37\u001b[0m ]\n",
      "File \u001b[0;32m~/open_source/hydromt/hydromt/data_catalog/drivers/raster/raster_xarray_driver.py:29\u001b[0m\n\u001b[1;32m     22\u001b[0m \u001b[38;5;28;01mfrom\u001b[39;00m \u001b[38;5;21;01mhydromt\u001b[39;00m\u001b[38;5;21;01m.\u001b[39;00m\u001b[38;5;21;01mdata_catalog\u001b[39;00m\u001b[38;5;21;01m.\u001b[39;00m\u001b[38;5;21;01mdrivers\u001b[39;00m\u001b[38;5;21;01m.\u001b[39;00m\u001b[38;5;21;01mraster\u001b[39;00m\u001b[38;5;21;01m.\u001b[39;00m\u001b[38;5;21;01mraster_dataset_driver\u001b[39;00m \u001b[38;5;28;01mimport\u001b[39;00m (\n\u001b[1;32m     23\u001b[0m     RasterDatasetDriver,\n\u001b[1;32m     24\u001b[0m )\n\u001b[1;32m     26\u001b[0m logger: Logger \u001b[38;5;241m=\u001b[39m getLogger(\u001b[38;5;18m__name__\u001b[39m)\n\u001b[0;32m---> 29\u001b[0m \u001b[38;5;28;43;01mclass\u001b[39;49;00m\u001b[43m \u001b[49m\u001b[38;5;21;43;01mRasterDatasetXarrayDriver\u001b[39;49;00m\u001b[43m(\u001b[49m\u001b[43mRasterDatasetDriver\u001b[49m\u001b[43m)\u001b[49m\u001b[43m:\u001b[49m\n\u001b[1;32m     30\u001b[0m \u001b[38;5;250;43m    \u001b[39;49m\u001b[38;5;124;43;03m\"\"\"RasterDatasetXarrayDriver.\"\"\"\u001b[39;49;00m\n\u001b[1;32m     32\u001b[0m \u001b[43m    \u001b[49m\u001b[43mpreferred_extension\u001b[49m\u001b[43m \u001b[49m\u001b[38;5;241;43m=\u001b[39;49m\u001b[43m \u001b[49m\u001b[38;5;124;43m\"\u001b[39;49m\u001b[38;5;124;43m.zarr\u001b[39;49m\u001b[38;5;124;43m\"\u001b[39;49m\n",
      "File \u001b[0;32m~/open_source/hydromt/.pixi/envs/full-py311/lib/python3.11/site-packages/pydantic/_internal/_model_construction.py:96\u001b[0m, in \u001b[0;36mModelMetaclass.__new__\u001b[0;34m(mcs, cls_name, bases, namespace, __pydantic_generic_metadata__, __pydantic_reset_parent_namespace__, _create_model_module, **kwargs)\u001b[0m\n\u001b[1;32m     94\u001b[0m config_wrapper \u001b[38;5;241m=\u001b[39m ConfigWrapper\u001b[38;5;241m.\u001b[39mfor_model(bases, namespace, kwargs)\n\u001b[1;32m     95\u001b[0m namespace[\u001b[38;5;124m'\u001b[39m\u001b[38;5;124mmodel_config\u001b[39m\u001b[38;5;124m'\u001b[39m] \u001b[38;5;241m=\u001b[39m config_wrapper\u001b[38;5;241m.\u001b[39mconfig_dict\n\u001b[0;32m---> 96\u001b[0m private_attributes \u001b[38;5;241m=\u001b[39m \u001b[43minspect_namespace\u001b[49m\u001b[43m(\u001b[49m\n\u001b[1;32m     97\u001b[0m \u001b[43m    \u001b[49m\u001b[43mnamespace\u001b[49m\u001b[43m,\u001b[49m\u001b[43m \u001b[49m\u001b[43mconfig_wrapper\u001b[49m\u001b[38;5;241;43m.\u001b[39;49m\u001b[43mignored_types\u001b[49m\u001b[43m,\u001b[49m\u001b[43m \u001b[49m\u001b[43mclass_vars\u001b[49m\u001b[43m,\u001b[49m\u001b[43m \u001b[49m\u001b[43mbase_field_names\u001b[49m\n\u001b[1;32m     98\u001b[0m \u001b[43m\u001b[49m\u001b[43m)\u001b[49m\n\u001b[1;32m     99\u001b[0m \u001b[38;5;28;01mif\u001b[39;00m private_attributes \u001b[38;5;129;01mor\u001b[39;00m base_private_attributes:\n\u001b[1;32m    100\u001b[0m     original_model_post_init \u001b[38;5;241m=\u001b[39m get_model_post_init(namespace, bases)\n",
      "File \u001b[0;32m~/open_source/hydromt/.pixi/envs/full-py311/lib/python3.11/site-packages/pydantic/_internal/_model_construction.py:401\u001b[0m, in \u001b[0;36minspect_namespace\u001b[0;34m(namespace, ignored_types, base_class_vars, base_class_fields)\u001b[0m\n\u001b[1;32m    397\u001b[0m             \u001b[38;5;28;01mraise\u001b[39;00m PydanticUserError(\n\u001b[1;32m    398\u001b[0m                 \u001b[38;5;124mf\u001b[39m\u001b[38;5;124m'\u001b[39m\u001b[38;5;124mField \u001b[39m\u001b[38;5;132;01m{\u001b[39;00mvar_name\u001b[38;5;132;01m!r}\u001b[39;00m\u001b[38;5;124m requires a type annotation\u001b[39m\u001b[38;5;124m'\u001b[39m, code\u001b[38;5;241m=\u001b[39m\u001b[38;5;124m'\u001b[39m\u001b[38;5;124mmodel-field-missing-annotation\u001b[39m\u001b[38;5;124m'\u001b[39m\n\u001b[1;32m    399\u001b[0m             )\n\u001b[1;32m    400\u001b[0m         \u001b[38;5;28;01melse\u001b[39;00m:\n\u001b[0;32m--> 401\u001b[0m             \u001b[38;5;28;01mraise\u001b[39;00m PydanticUserError(\n\u001b[1;32m    402\u001b[0m                 \u001b[38;5;124mf\u001b[39m\u001b[38;5;124m'\u001b[39m\u001b[38;5;124mA non-annotated attribute was detected: `\u001b[39m\u001b[38;5;132;01m{\u001b[39;00mvar_name\u001b[38;5;132;01m}\u001b[39;00m\u001b[38;5;124m = \u001b[39m\u001b[38;5;132;01m{\u001b[39;00mvalue\u001b[38;5;132;01m!r}\u001b[39;00m\u001b[38;5;124m`. All model fields require a \u001b[39m\u001b[38;5;124m'\u001b[39m\n\u001b[1;32m    403\u001b[0m                 \u001b[38;5;124mf\u001b[39m\u001b[38;5;124m'\u001b[39m\u001b[38;5;124mtype annotation; if `\u001b[39m\u001b[38;5;132;01m{\u001b[39;00mvar_name\u001b[38;5;132;01m}\u001b[39;00m\u001b[38;5;124m` is not meant to be a field, you may be able to resolve this \u001b[39m\u001b[38;5;124m'\u001b[39m\n\u001b[1;32m    404\u001b[0m                 \u001b[38;5;124mf\u001b[39m\u001b[38;5;124m\"\u001b[39m\u001b[38;5;124merror by annotating it as a `ClassVar` or updating `model_config[\u001b[39m\u001b[38;5;124m'\u001b[39m\u001b[38;5;124mignored_types\u001b[39m\u001b[38;5;124m'\u001b[39m\u001b[38;5;124m]`.\u001b[39m\u001b[38;5;124m\"\u001b[39m,\n\u001b[1;32m    405\u001b[0m                 code\u001b[38;5;241m=\u001b[39m\u001b[38;5;124m'\u001b[39m\u001b[38;5;124mmodel-field-missing-annotation\u001b[39m\u001b[38;5;124m'\u001b[39m,\n\u001b[1;32m    406\u001b[0m             )\n\u001b[1;32m    408\u001b[0m \u001b[38;5;28;01mfor\u001b[39;00m ann_name, ann_type \u001b[38;5;129;01min\u001b[39;00m raw_annotations\u001b[38;5;241m.\u001b[39mitems():\n\u001b[1;32m    409\u001b[0m     \u001b[38;5;28;01mif\u001b[39;00m (\n\u001b[1;32m    410\u001b[0m         is_valid_privateattr_name(ann_name)\n\u001b[1;32m    411\u001b[0m         \u001b[38;5;129;01mand\u001b[39;00m ann_name \u001b[38;5;129;01mnot\u001b[39;00m \u001b[38;5;129;01min\u001b[39;00m private_attributes\n\u001b[0;32m   (...)\u001b[0m\n\u001b[1;32m    415\u001b[0m         \u001b[38;5;129;01mand\u001b[39;00m \u001b[38;5;28mgetattr\u001b[39m(ann_type, \u001b[38;5;124m'\u001b[39m\u001b[38;5;124m__module__\u001b[39m\u001b[38;5;124m'\u001b[39m, \u001b[38;5;28;01mNone\u001b[39;00m) \u001b[38;5;241m!=\u001b[39m \u001b[38;5;124m'\u001b[39m\u001b[38;5;124mfunctools\u001b[39m\u001b[38;5;124m'\u001b[39m\n\u001b[1;32m    416\u001b[0m     ):\n",
      "\u001b[0;31mPydanticUserError\u001b[0m: A non-annotated attribute was detected: `preferred_extension = '.zarr'`. All model fields require a type annotation; if `preferred_extension` is not meant to be a field, you may be able to resolve this error by annotating it as a `ClassVar` or updating `model_config['ignored_types']`.\n\nFor further information visit https://errors.pydantic.dev/2.8/u/model-field-missing-annotation"
     ]
    }
   ],
   "source": [
    "# import hydromt\n",
    "import hydromt"
   ]
  },
  {
   "attachments": {},
   "cell_type": "markdown",
   "id": "cf1144ef",
   "metadata": {},
   "source": [
    "### Explore the current data catalog\n",
    "For this exercise, we will use the pre-defined catalog `artifact_data` which contains a global data extracts for the Piave basin in Northern Italy. This data catalog and the actual data linked to it are for a small geographic extent as it is intended for documentation and testing purposes only. If you have another data catalog available (and the linked data), you can use it instead.\n",
    "\n",
    "To read your own data catalog (as well as a predefined catalog), you can use the **data_libs** argument of the `DataCatalog` which accepts either a absolute/relative path to a data catalog yaml file or a name of a pre-defined catalog.\n",
    "First let's read the pre-defined artifact data catalog:"
   ]
  },
  {
   "cell_type": "code",
   "execution_count": null,
   "id": "fa0b4054",
   "metadata": {},
   "outputs": [],
   "source": [
    "# Download and read artifacts for the Piave basin to `~/.hydromt_data/`.\n",
    "data_catalog = hydromt.DataCatalog(data_libs=[\"artifact_data=v1.0.0\"])"
   ]
  },
  {
   "attachments": {},
   "cell_type": "markdown",
   "id": "55730836",
   "metadata": {},
   "source": [
    "The `artifact_data` catalog is one of the pre-defined available DataCatalog of HydroMT. You can find an overview of [pre-defined data catalogs](https://deltares.github.io/hydromt/latest/user_guide/data_existing_cat.html) in the online user guide. You can also get an overview of the pre-defined catalogs with their version number from HydroMT."
   ]
  },
  {
   "cell_type": "code",
   "execution_count": null,
   "id": "611ed35b",
   "metadata": {},
   "outputs": [],
   "source": [
    "from pprint import pprint\n",
    "\n",
    "pprint(data_catalog.predefined_catalogs)"
   ]
  },
  {
   "attachments": {},
   "cell_type": "markdown",
   "id": "7ba981ed",
   "metadata": {},
   "source": [
    "Let's now check which data sources are available in the catalog:"
   ]
  },
  {
   "cell_type": "code",
   "execution_count": null,
   "id": "a254140d",
   "metadata": {},
   "outputs": [],
   "source": [
    "# For a list of sources including attributes\n",
    "data_catalog.sources.keys()"
   ]
  },
  {
   "attachments": {},
   "cell_type": "markdown",
   "id": "b2846f07",
   "metadata": {},
   "source": [
    "And let's now open a plot one of the available datasets to check extent and available dates:"
   ]
  },
  {
   "cell_type": "code",
   "execution_count": null,
   "id": "303da2d8",
   "metadata": {},
   "outputs": [],
   "source": [
    "ds = data_catalog.get_rasterdataset(\"era5\", time_range=(\"2010-02-02\", \"2010-02-15\"))\n",
    "print(\"\")\n",
    "print(f\"Available extent: {ds.raster.bounds}\")\n",
    "print(f\"Available dates: {ds.time.values[0]} to {ds.time.values[-1]}\")\n",
    "ds"
   ]
  },
  {
   "attachments": {},
   "cell_type": "markdown",
   "id": "efd6e8e3",
   "metadata": {},
   "source": [
    "### Export an extract of the data"
   ]
  },
  {
   "attachments": {},
   "cell_type": "markdown",
   "id": "02bc2086",
   "metadata": {},
   "source": [
    "Now we will export a subset of the data in our `artifact_data` catalog using the [DataCatalog.export_data](https://deltares.github.io/hydromt/latest/_generated/hydromt.data_catalog.DataCatalog.export_data.html) method. Let's check the method's docstring:"
   ]
  },
  {
   "cell_type": "code",
   "execution_count": null,
   "id": "4b6dd571",
   "metadata": {},
   "outputs": [],
   "source": [
    "?data_catalog.export_data"
   ]
  },
  {
   "attachments": {},
   "cell_type": "markdown",
   "id": "63f90b84",
   "metadata": {},
   "source": [
    "Let's select which data source and the extent we want (based on the exploration above): "
   ]
  },
  {
   "cell_type": "code",
   "execution_count": null,
   "id": "2f034b58",
   "metadata": {},
   "outputs": [],
   "source": [
    "# List of data sources to export\n",
    "# NOTE that for ERA5 we only export the precip variable and for merit_hydro we only export the elevtn variable\n",
    "source_list = [\"merit_hydro[elevtn,flwdir]\", \"era5[precip]\", \"vito_2015\"]\n",
    "# Geographic extent\n",
    "bbox = [12.0, 46.0, 13.0, 46.5]\n",
    "# Time extent\n",
    "time_range = (\"2010-02-10\", \"2010-02-15\")"
   ]
  },
  {
   "attachments": {},
   "cell_type": "markdown",
   "id": "31bacffa",
   "metadata": {},
   "source": [
    "And let's export the *tmp_data_export* folder:"
   ]
  },
  {
   "cell_type": "code",
   "execution_count": null,
   "id": "1b635587",
   "metadata": {},
   "outputs": [],
   "source": [
    "folder_name = \"tmp_data_export\"\n",
    "data_catalog.export_data(\n",
    "    new_root=folder_name,\n",
    "    bbox=bbox,\n",
    "    time_range=time_range,\n",
    "    source_names=source_list,\n",
    "    metadata={\"version\": \"1\"},\n",
    ")"
   ]
  },
  {
   "attachments": {},
   "cell_type": "markdown",
   "id": "442019bb",
   "metadata": {},
   "source": [
    "### Open and explore the exported data\n",
    "\n",
    "Now we have our new extracted data and HydroMT saved as well a new data catalog file that goes with it:"
   ]
  },
  {
   "cell_type": "code",
   "execution_count": null,
   "id": "58faaed6-0173-476e-aef8-2617fefb0c87",
   "metadata": {},
   "outputs": [],
   "source": [
    "data_catalog_extract.get_source(\"merit_hydro\").uri"
   ]
  },
  {
   "cell_type": "code",
   "execution_count": null,
   "id": "0bc6b168",
   "metadata": {},
   "outputs": [],
   "source": [
    "import os\n",
    "\n",
    "for path, _, files in os.walk(folder_name):\n",
    "    print(path)\n",
    "    for name in files:\n",
    "        print(f\" - {name}\")"
   ]
  },
  {
   "cell_type": "code",
   "execution_count": null,
   "id": "93c006c4",
   "metadata": {},
   "outputs": [],
   "source": [
    "with open(os.path.join(folder_name, \"data_catalog.yml\"), \"r\") as f:\n",
    "    print(f.read())"
   ]
  },
  {
   "attachments": {},
   "cell_type": "markdown",
   "id": "3e2a1f75",
   "metadata": {},
   "source": [
    "Let's open the extracted data catalog:"
   ]
  },
  {
   "cell_type": "code",
   "execution_count": null,
   "id": "da1c423c",
   "metadata": {},
   "outputs": [],
   "source": [
    "data_catalog_extract = hydromt.DataCatalog(\n",
    "    data_libs=os.path.join(folder_name, \"data_catalog.yml\")\n",
    ")\n",
    "data_catalog_extract.sources.keys()"
   ]
  },
  {
   "attachments": {},
   "cell_type": "markdown",
   "id": "2977458f",
   "metadata": {},
   "source": [
    "And now let's open the extracted data again and do a nice plot."
   ]
  },
  {
   "cell_type": "code",
   "execution_count": null,
   "id": "81c95cc5",
   "metadata": {},
   "outputs": [],
   "source": [
    "# Get both the extracted and original merit_hydro_1k DEM\n",
    "dem = data_catalog.get_rasterdataset(\n",
    "    \"merit_hydro\", variables=[\"elevtn\"], bbox=[11.6, 45.2, 13.0, 46.8]\n",
    ")\n",
    "dem_extract = data_catalog_extract.get_rasterdataset(\n",
    "    \"merit_hydro\", variables=[\"elevtn\"]\n",
    ")"
   ]
  },
  {
   "cell_type": "code",
   "execution_count": null,
   "id": "797d2517",
   "metadata": {},
   "outputs": [],
   "source": [
    "import matplotlib.pyplot as plt\n",
    "import geopandas as gpd\n",
    "from shapely.geometry import box\n",
    "import cartopy.crs as ccrs\n",
    "\n",
    "proj = ccrs.PlateCarree()  # plot projection\n",
    "\n",
    "\n",
    "# get bounding box of each data catalog using merit_hydro_1k\n",
    "bbox = gpd.GeoDataFrame(geometry=[box(*dem.raster.bounds)], crs=4326)\n",
    "bbox_extract = gpd.GeoDataFrame(geometry=[box(*dem_extract.raster.bounds)], crs=4326)\n",
    "\n",
    "# Initialise plot\n",
    "fig = plt.figure(figsize=(7, 5))\n",
    "ax = fig.add_subplot(projection=proj)\n",
    "\n",
    "# Plot the bounding box\n",
    "bbox.boundary.plot(ax=ax, color=\"k\", linewidth=0.8)\n",
    "bbox_extract.boundary.plot(ax=ax, color=\"red\", linewidth=0.8)\n",
    "\n",
    "# Plot elevation\n",
    "dem.raster.mask_nodata().plot(ax=ax, cmap=\"gray\")\n",
    "dem_extract.raster.mask_nodata().plot(ax=ax, cmap=\"terrain\")\n",
    "ax.set_title(\"exported and original DEMs\")"
   ]
  }
 ],
 "metadata": {
  "kernelspec": {
   "display_name": "Python 3 (ipykernel)",
   "language": "python",
   "name": "python3"
  },
  "language_info": {
   "codemirror_mode": {
    "name": "ipython",
    "version": 3
   },
   "file_extension": ".py",
   "mimetype": "text/x-python",
   "name": "python",
   "nbconvert_exporter": "python",
   "pygments_lexer": "ipython3",
   "version": "3.11.9"
  },
  "vscode": {
   "interpreter": {
    "hash": "3808d5b5b54949c7a0a707a38b0a689040fa9c90ab139a050e41373880719ab1"
   }
  }
 },
 "nbformat": 4,
 "nbformat_minor": 5
}
