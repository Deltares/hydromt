{
 "cells": [
  {
   "cell_type": "markdown",
   "id": "87e8269e",
   "metadata": {},
   "source": [
    "## Reading raster data"
   ]
  },
  {
   "cell_type": "markdown",
   "id": "29a06345",
   "metadata": {},
   "source": [
    "This example shows verrious commonly used options to read single or multiple file raster datasets into an `xarray.Dataset` or `xarray.DataArray` object with geospatial attributes."
   ]
  },
  {
   "cell_type": "markdown",
   "id": "0f90185d",
   "metadata": {},
   "source": [
    "In **hydroMT** we typically we read data using the `DataCatalog` which allows for some minimal pre-processing in order to get uniform variable names and units. Here we show the methods that are used *under the hood* by the `DataCatalog.getrasterdataset` method. "
   ]
  },
  {
   "cell_type": "code",
   "execution_count": null,
   "id": "4f4af5d1",
   "metadata": {},
   "outputs": [],
   "source": [
    "import numpy as np\n",
    "import xarray as xr\n",
    "from pprint import pprint\n",
    "import glob\n",
    "import os\n",
    "import hydromt"
   ]
  },
  {
   "cell_type": "code",
   "execution_count": null,
   "id": "ee2e0013",
   "metadata": {},
   "outputs": [],
   "source": [
    "# setup logging\n",
    "from hydromt.log import setuplog\n",
    "\n",
    "logger = setuplog(\"read raster data\", log_level=10)"
   ]
  },
  {
   "cell_type": "code",
   "execution_count": null,
   "id": "dbd6017b",
   "metadata": {},
   "outputs": [],
   "source": [
    "# Download artifacts for the Piave basin to `~/.hydromt_data/`.\n",
    "data_catalog = hydromt.DataCatalog(logger=logger)\n",
    "data_catalog.from_artifacts()"
   ]
  },
  {
   "cell_type": "markdown",
   "id": "56986e7b",
   "metadata": {},
   "source": [
    "As an example we will use the [MERIT Hydro](http://hydro.iis.u-tokyo.ac.jp/~yamadai/MERIT_Hydro) dataset from the downloaded artifacts. This data is saved using various GeoTIFF files with identical grids in one folder."
   ]
  },
  {
   "cell_type": "code",
   "execution_count": null,
   "id": "b5e4a5b3",
   "metadata": {},
   "outputs": [],
   "source": [
    "path = os.path.join(os.path.dirname(data_catalog[\"merit_hydro\"].path), \"*.tif\")\n",
    "fns = glob.glob(path)\n",
    "fns"
   ]
  },
  {
   "cell_type": "markdown",
   "id": "bfdd7db0",
   "metadata": {},
   "source": [
    "### open_raster"
   ]
  },
  {
   "cell_type": "markdown",
   "id": "81b54e4e",
   "metadata": {},
   "source": [
    "To read raster data and parse it into an `xarray.DataArray` we use the `hydromt.open_raster` method. \n",
    "This method is based on `xarray.open_rasterio`, but additionally parses the coordinate reference system meta data. This method reads files from a single [gdal raster file](https://gdal.org/drivers/raster/index.html). Tiled data of a sinlge variable can also be passed as a [virtual raster tileset (vrt) file](https://gdal.org/drivers/raster/vrt.html)."
   ]
  },
  {
   "cell_type": "code",
   "execution_count": null,
   "id": "ba24cedc",
   "metadata": {},
   "outputs": [],
   "source": [
    "# read a single raster file as DataArray\n",
    "# the chunks argument provides lazy loading of the data, see xarray.open_rasterio\n",
    "da = hydromt.open_raster(fns[0], chunks={\"x\": 1000, \"y\": 1000})\n",
    "print(da)"
   ]
  },
  {
   "cell_type": "markdown",
   "id": "68b0d000",
   "metadata": {},
   "source": [
    "#### (geospatial) attributes"
   ]
  },
  {
   "cell_type": "markdown",
   "id": "f8d9f673",
   "metadata": {},
   "source": [
    "Many (geospatial) attributes can be accessed trough the DataArray/Dataset [raster accessors](https://deltares.github.io/hydromt/latest/api/api_methods.html#attributes)"
   ]
  },
  {
   "cell_type": "code",
   "execution_count": null,
   "id": "a16ca982",
   "metadata": {},
   "outputs": [],
   "source": [
    "# coordinate reference system\n",
    "da.raster.crs"
   ]
  },
  {
   "cell_type": "code",
   "execution_count": null,
   "id": "77b8a346",
   "metadata": {},
   "outputs": [],
   "source": [
    "# geospatial transform, see https://www.perrygeo.com/python-affine-transforms.html\n",
    "da.raster.transform"
   ]
  },
  {
   "cell_type": "code",
   "execution_count": null,
   "id": "f07feaf2",
   "metadata": {},
   "outputs": [],
   "source": [
    "# names of x- and y dimensions\n",
    "(da.raster.x_dim, da.raster.y_dim)"
   ]
  },
  {
   "cell_type": "code",
   "execution_count": null,
   "id": "72bfa1fd",
   "metadata": {},
   "outputs": [],
   "source": [
    "# nodata value (or fillvalue)\n",
    "da.raster.nodata"
   ]
  },
  {
   "cell_type": "markdown",
   "id": "1a92b572",
   "metadata": {},
   "source": [
    "### open_mfraster"
   ]
  },
  {
   "cell_type": "markdown",
   "id": "c0e3081c",
   "metadata": {},
   "source": [
    "To read multiple raster files with identical grid, but each with a different variable, into a single `xarray.Dataset` we can use the `hydromt.open_mfraster` method. The same method can be used to concatenate multiple raster files with identical grid and the same variable but different *layer* along a single dimension."
   ]
  },
  {
   "cell_type": "code",
   "execution_count": null,
   "id": "bb1fe656",
   "metadata": {},
   "outputs": [],
   "source": [
    "# this method takes both a list of paths or a path with a glob.glob pattern such as used here:\n",
    "print(path)\n",
    "ds = hydromt.open_mfraster(path, chunks={\"x\": 1000, \"y\": 1000})\n",
    "ds"
   ]
  },
  {
   "cell_type": "markdown",
   "id": "2f1e800f",
   "metadata": {},
   "source": [
    "TIP: To write a dataset back to a stack of raster in a single folder use the `<dataset>.raster.to_mapstack` method."
   ]
  },
  {
   "cell_type": "markdown",
   "id": "1c67efce",
   "metadata": {},
   "source": [
    "To concatenate multiple layers of [soilgrids data](https://www.isric.org/explore/soilgrids/faq-soilgrids-2017) into a single-variable dataset using `hydromt.open_mfraster`, we simply need to set the argument `concat=True` and optionally providing a `condat_dim` dimension name:"
   ]
  },
  {
   "cell_type": "code",
   "execution_count": null,
   "id": "352b946a",
   "metadata": {},
   "outputs": [],
   "source": [
    "path = os.path.join(os.path.dirname(data_catalog[\"soilgrids\"].path), \"bd*.tif\")\n",
    "fns = glob.glob(path)\n",
    "fns"
   ]
  },
  {
   "cell_type": "code",
   "execution_count": null,
   "id": "b6e3ea41",
   "metadata": {},
   "outputs": [],
   "source": [
    "ds = hydromt.open_mfraster(fns, concat=True, concat_dim=\"layer\")\n",
    "ds"
   ]
  },
  {
   "cell_type": "markdown",
   "id": "5fced222",
   "metadata": {},
   "source": [
    "### open_raster_from_tindex"
   ]
  },
  {
   "cell_type": "markdown",
   "id": "c80dc82a",
   "metadata": {},
   "source": [
    "If the raster data is tiled but for each tile a different CRS is used (for instance a different UTM projection for each UTM zone), this dataset cannot be described using a VRT file. In this case a vector file can be build to be used a raster tile index using [gdaltindex](https://gdal.org/programs/gdaltindex.html) and read using `hydromt.open_raster_from_tindex`. To read the data into a single `xarray.Dataset` the data needs to be reprojected and mosaiced to a single CRS while reading. As this type of data cannot be loaded lazily the method is typically used with an area of interest for which the data is loaded and combined. As example we use the [GRWL mask](https://doi.org/10.5281/zenodo.1297434) raster tiles for which we have created a tileindex using the aforementiond `gdaltindex` command line tool."
   ]
  },
  {
   "cell_type": "code",
   "execution_count": null,
   "id": "b03a929e",
   "metadata": {},
   "outputs": [],
   "source": [
    "# area of interest based previously loaded soilgrids data bounding box\n",
    "bbox = ds.raster.bounds\n",
    "print(bbox)"
   ]
  },
  {
   "cell_type": "code",
   "execution_count": null,
   "id": "9bf6d432",
   "metadata": {},
   "outputs": [],
   "source": [
    "# the tileindex is a GeoPackage vector file\n",
    "# with an attribute column 'location' containing the relative paths to the raster file data\n",
    "import geopandas as gpd\n",
    "\n",
    "fn_tindex = data_catalog[\"grwl_mask\"].path\n",
    "print(fn_tindex)\n",
    "gpd.read_file(fn_tindex, rows=5)"
   ]
  },
  {
   "cell_type": "code",
   "execution_count": null,
   "id": "0f897e97",
   "metadata": {},
   "outputs": [],
   "source": [
    "# set destination CRS to EPSG:32633 (UTM zone 33N) to keep a projected crs\n",
    "ds = hydromt.open_raster_from_tindex(\n",
    "    fn_tindex, bbox=bbox, nodata=0, mosaic_kwargs={\"dst_crs\": 32633}\n",
    ")\n",
    "ds"
   ]
  }
 ],
 "metadata": {
  "kernelspec": {
   "display_name": "Python 3",
   "language": "python",
   "name": "python3"
  },
  "language_info": {
   "codemirror_mode": {
    "name": "ipython",
    "version": 3
   },
   "file_extension": ".py",
   "mimetype": "text/x-python",
   "name": "python",
   "nbconvert_exporter": "python",
   "pygments_lexer": "ipython3",
   "version": "3.9.2"
  }
 },
 "nbformat": 4,
 "nbformat_minor": 5
}
