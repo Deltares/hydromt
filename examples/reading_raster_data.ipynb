{
    "cells": [
        {
            "attachments": {},
            "cell_type": "markdown",
            "id": "87e8269e",
            "metadata": {},
            "source": [
                "## Example: Reading raster data"
            ]
        },
        {
            "attachments": {},
            "cell_type": "markdown",
            "id": "29a06345",
            "metadata": {},
            "source": [
                "This example illustrates the how to read raster data using the HydroMT [DataCatalog](https://deltares.github.io/hydromt/latest/_generated/hydromt.data_catalog.DataCatalog.html) with the `raster`, `netcdf` and `raster_tindex` drivers."
            ]
        },
        {
            "cell_type": "code",
            "execution_count": null,
            "id": "ee2e0013",
            "metadata": {},
            "outputs": [],
            "source": [
                "# import hydromt and setup logging\n",
                "import hydromt\n",
                "from hydromt.log import setuplog\n",
                "\n",
                "logger = setuplog(\"read raster data\", log_level=10)"
            ]
        },
        {
            "cell_type": "code",
            "execution_count": null,
            "id": "dbd6017b",
            "metadata": {},
            "outputs": [],
            "source": [
                "# Download artifacts for the Piave basin to `~/.hydromt_data/`.\n",
                "data_catalog = hydromt.DataCatalog(logger=logger, data_libs=[\"artifact_data=v0.0.8\"])"
            ]
        },
        {
            "attachments": {},
            "cell_type": "markdown",
            "id": "bfdd7db0",
            "metadata": {},
            "source": [
                "## Raster driver"
            ]
        },
        {
            "attachments": {},
            "cell_type": "markdown",
            "id": "56986e7b",
            "metadata": {},
            "source": [
                "To read raster data and parse it into a [xarray Dataset or DataArray](https://xarray.pydata.org/en/stable/user-guide/data-structures.html) we use the [open_mfraster()](https://deltares.github.io/hydromt/latest/_generated/hydromt.io.open_mfraster.html) method. All `driver_kwargs` in the data catalog yaml file will be passed to this method. The `raster` driver supports all [GDAL data formats ](http://www.gdal.org/formats_list.html), including the often used GeoTiff of Cloud Optimized GeoTiff (COG) formats. Tiled datasets can also be passed as a [virtual raster tileset (vrt) file](https://gdal.org/drivers/raster/vrt.html). \n",
                "\n",
                "As an example we will use the [MERIT Hydro](http://hydro.iis.u-tokyo.ac.jp/~yamadai/MERIT_Hydro) dataset which is a set of GeoTiff files with identical grids, one for each variable of the datasets. "
            ]
        },
        {
            "cell_type": "code",
            "execution_count": null,
            "id": "2c8f2ecd",
            "metadata": {},
            "outputs": [],
            "source": [
                "# inspect data source entry in data catalog yaml file\n",
                "data_catalog[\"merit_hydro\"]"
            ]
        },
        {
            "attachments": {},
            "cell_type": "markdown",
            "id": "772e30f3",
            "metadata": {},
            "source": [
                "We can load any RasterDataset using [DataCatalog.get_rasterdataset()](https://deltares.github.io/hydromt/latest/_generated/hydromt.data_catalog.DataCatalog.get_rasterdataset.html). Note that if we don't provide any arguments it returns the full dataset with nine data variables and for the full spatial domain. Only the data coordinates are actually read, the data variables are still lazy [Dask arrays](https://docs.dask.org/en/stable/array.html)."
            ]
        },
        {
            "cell_type": "code",
            "execution_count": null,
            "id": "0a590ebd",
            "metadata": {},
            "outputs": [],
            "source": [
                "ds = data_catalog.get_rasterdataset(\"merit_hydro\")\n",
                "ds"
            ]
        },
        {
            "attachments": {},
            "cell_type": "markdown",
            "id": "eda1aa26",
            "metadata": {},
            "source": [
                "The data can be visualized with the [.plot()](https://docs.xarray.dev/en/latest/generated/xarray.DataArray.plot.html) xarray method. We replace all nodata values with NaNs with [.raster.mask_nodata()](https://deltares.github.io/hydromt/latest/_generated/hydromt.DataArray.raster.mask_nodata.html)."
            ]
        },
        {
            "cell_type": "code",
            "execution_count": null,
            "id": "6b90f96d",
            "metadata": {},
            "outputs": [],
            "source": [
                "ds[\"elevtn\"].raster.mask_nodata().plot(cmap=\"terrain\")"
            ]
        },
        {
            "attachments": {},
            "cell_type": "markdown",
            "id": "e6b5e546",
            "metadata": {},
            "source": [
                "We can request a (spatial) subset data by providing additional `variables` and `bbox` / `geom` arguments. Note that these return a smaller spatial extent and just two data variables. The variables argument is especially useful if each variable of the dataset is saved in a separate file and the `{variable}` key is used in the path argument of the data source (see above) to limit which files are actually read. If a single variable is requested a DataArray instead of a Dataset is returned unless the `single_var_as_array` argument is set to False (True by default)."
            ]
        },
        {
            "cell_type": "code",
            "execution_count": null,
            "id": "d69b5d92",
            "metadata": {},
            "outputs": [],
            "source": [
                "bbox = [11.70, 45.35, 12.95, 46.70]\n",
                "ds = data_catalog.get_rasterdataset(\n",
                "    \"merit_hydro\", bbox=bbox, variables=[\"elevtn\"], single_var_as_array=True\n",
                ")\n",
                "ds"
            ]
        },
        {
            "attachments": {},
            "cell_type": "markdown",
            "id": "c0e3081c",
            "metadata": {},
            "source": [
                "As mentioned earlier, all `driver_kwargs` in the data entry of the catalog yaml file will be passed to the [open_mfraster()](../_generated/hydromt.io.open_mfraster.rst) method. Here we show how these arguments can be used to concatenate multiple raster files along a new dimension."
            ]
        },
        {
            "cell_type": "code",
            "execution_count": null,
            "id": "bb1fe656",
            "metadata": {},
            "outputs": [],
            "source": [
                "# update data source entry (this is normally done manually before initializing the data catalog!)\n",
                "data_catalog[\"merit_hydro\"].driver_kwargs.update(concat_dim=\"variable\", concat=True)\n",
                "data_catalog[\"merit_hydro\"]"
            ]
        },
        {
            "cell_type": "code",
            "execution_count": null,
            "id": "ee979290",
            "metadata": {},
            "outputs": [],
            "source": [
                "# this returns a DataArray (single variable) with a new 'variable' dimension\n",
                "da = data_catalog.get_rasterdataset(\"merit_hydro\")\n",
                "da"
            ]
        },
        {
            "attachments": {},
            "cell_type": "markdown",
            "id": "2f1e800f",
            "metadata": {},
            "source": [
                "TIP: To write a dataset back to a stack of raster in a single folder use the [.raster.to_mapstack()](https://deltares.github.io/hydromt/latest/_generated/hydromt.Dataset.raster.to_mapstack.html) method."
            ]
        },
        {
            "attachments": {},
            "cell_type": "markdown",
            "id": "70fd6715",
            "metadata": {},
            "source": [
                "## Netcdf driver"
            ]
        },
        {
            "attachments": {},
            "cell_type": "markdown",
            "id": "f4257b91",
            "metadata": {},
            "source": [
                "Many gridded datasets with a third dimension (e.g. time) are saved in netcdf or zarr files, which can be read with the netcdf and zarr drivers respectively. This data is read using the [xarray.open_mfdataset()](https://docs.xarray.dev/en/latest/generated/xarray.open_mfdataset.html) method. These formats are flexible and therefore \n",
                "HydroMT is not always able to read the geospatial attributes such as the CRS from the data and it has to be set through the data catalog [yaml file](https://deltares.github.io/hydromt/latest/user_guide/data_prepare_cat.html). \n",
                "\n",
                "If the data is stored per year or month, the `{year}` and `{month}` keys can be used in the path argument of a data source in the data catalog yaml file to speed up the reading of a temporal subset of the data using the `date_tuple` argument of [DataCatalog.get_rasterdataset()](https://deltares.github.io/hydromt/latest/_generated/hydromt.data_catalog.DataCatalog.get_rasterdataset.html) (not in this example).\n",
                "\n",
                "As example we use the [ERA5](https://doi.org/10.24381/cds.bd0915c6) dataset. "
            ]
        },
        {
            "cell_type": "code",
            "execution_count": null,
            "id": "9f1f860a",
            "metadata": {},
            "outputs": [],
            "source": [
                "# Note the crs argument as this is missing in the original data\n",
                "data_catalog[\"era5_hourly\"]"
            ]
        },
        {
            "cell_type": "code",
            "execution_count": null,
            "id": "98c2fbac",
            "metadata": {},
            "outputs": [],
            "source": [
                "# Note that the some units are converted\n",
                "ds = data_catalog.get_rasterdataset(\"era5_hourly\")\n",
                "ds"
            ]
        },
        {
            "attachments": {},
            "cell_type": "markdown",
            "id": "5fced222",
            "metadata": {},
            "source": [
                "## Raster_tindex driver"
            ]
        },
        {
            "attachments": {},
            "cell_type": "markdown",
            "id": "c80dc82a",
            "metadata": {},
            "source": [
                "If the raster data is tiled but for each tile a different CRS is used (for instance a different UTM projection for each UTM zone), this dataset cannot be described using a VRT file. In this case a vector file can be build to use a raster tile index using [gdaltindex](https://gdal.org/programs/gdaltindex.html) and read using [open_raster_from_tindex()](https://deltares.github.io/hydromt/latest/_generated/hydromt.io.open_raster_from_tindex.html). To read the data into a single `xarray.Dataset` the data needs to be reprojected and mosaiced to a single CRS while reading. As this type of data cannot be loaded lazily the method is typically used with an area of interest for which the data is loaded and combined. \n",
                "\n",
                "As example we use the [GRWL mask](https://doi.org/10.5281/zenodo.1297434) raster tiles for which we have created a tileindex using the aforementioned *gdaltindex* command line tool. Note that the path points to the GeoPackage output of the *gdaltindex* tool."
            ]
        },
        {
            "cell_type": "code",
            "execution_count": null,
            "id": "b03a929e",
            "metadata": {},
            "outputs": [],
            "source": [
                "data_catalog[\"grwl_mask\"]"
            ]
        },
        {
            "cell_type": "code",
            "execution_count": null,
            "id": "9bf6d432",
            "metadata": {},
            "outputs": [],
            "source": [
                "# the tileindex is a GeoPackage vector file\n",
                "# with an attribute column 'location' (see also the tileindex argument under driver_kwargs) containing the (relative) paths to the raster file data\n",
                "import geopandas as gpd\n",
                "\n",
                "fn_tindex = data_catalog[\"grwl_mask\"].path\n",
                "print(fn_tindex)\n",
                "gpd.read_file(fn_tindex, rows=5)"
            ]
        },
        {
            "cell_type": "code",
            "execution_count": null,
            "id": "0f897e97",
            "metadata": {},
            "outputs": [],
            "source": [
                "# this returns a DataArray (single variable) wit a mosaic of several files (see source_file attribute)\n",
                "ds = data_catalog.get_rasterdataset(\"grwl_mask\", bbox=bbox)\n",
                "ds"
            ]
        }
    ],
    "metadata": {
        "kernelspec": {
            "display_name": "Python 3.10.5 ('hydromt-dev')",
            "language": "python",
            "name": "python3"
        },
        "language_info": {
            "codemirror_mode": {
                "name": "ipython",
                "version": 3
            },
            "file_extension": ".py",
            "mimetype": "text/x-python",
            "name": "python",
            "nbconvert_exporter": "python",
            "pygments_lexer": "ipython3",
            "version": "3.10.5"
        },
        "vscode": {
            "interpreter": {
                "hash": "3808d5b5b54949c7a0a707a38b0a689040fa9c90ab139a050e41373880719ab1"
            }
        }
    },
    "nbformat": 4,
    "nbformat_minor": 5
}
