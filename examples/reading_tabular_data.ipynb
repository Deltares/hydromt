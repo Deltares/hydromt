{
 "cells": [
  {
   "attachments": {},
   "cell_type": "markdown",
   "id": "87e8269e",
   "metadata": {},
   "source": [
    "## Example: Reading 2D tabular data (DataFrame) "
   ]
  },
  {
   "attachments": {},
   "cell_type": "markdown",
   "id": "29a06345",
   "metadata": {},
   "source": [
    "This example illustrates the how to read 2D tabular data using the HydroMT [DataCatalog](../_generated/hydromt.data_catalog.DataCatalog.rst) with the `csv` driver."
   ]
  },
  {
   "cell_type": "code",
   "execution_count": null,
   "id": "ee2e0013",
   "metadata": {},
   "outputs": [],
   "source": [
    "# import hydromt and setup logging\n",
    "from hydromt import DataCatalog\n",
    "from hydromt.log import setuplog\n",
    "\n",
    "logger = setuplog(\"tabular data example\", log_level=10)"
   ]
  },
  {
   "cell_type": "code",
   "execution_count": null,
   "id": "dbd6017b",
   "metadata": {},
   "outputs": [],
   "source": [
    "data_catalog = DataCatalog(\"data/tabular_data_catalog.yml\", logger=logger)"
   ]
  },
  {
   "attachments": {},
   "cell_type": "markdown",
   "id": "bfdd7db0",
   "metadata": {},
   "source": [
    "## CSV driver "
   ]
  },
  {
   "attachments": {},
   "cell_type": "markdown",
   "id": "8f3c0d8a",
   "metadata": {},
   "source": [
    "### time series data"
   ]
  },
  {
   "attachments": {},
   "cell_type": "markdown",
   "id": "56986e7b",
   "metadata": {},
   "source": [
    "To read 2D tabular data from a comma-separated file (csv) and parse it into a [pandas.DataFrame](https://pandas.pydata.org/pandas-docs/stable/reference/api/pandas.DataFrame.html) we use the [pandas.read_csv()](https://pandas.pydata.org/pandas-docs/stable/reference/api/pandas.read_csv.html). Any *driver_kwargs* in the data catalog are passed to this method, e.g., parsing dates in the \"time\" colum and setting this as the index.\n",
    "\n",
    "This works similarly for excel tables, but based on the [pandas.read_excel()](https://pandas.pydata.org/pandas-docs/stable/reference/api/pandas.read_excel.html#pandas.read_excel) method. \n",
    "\n",
    "For demonstration we use a dummy example timeseries data in csv. "
   ]
  },
  {
   "cell_type": "code",
   "execution_count": null,
   "id": "2c8f2ecd",
   "metadata": {},
   "outputs": [],
   "source": [
    "# inspect data source entry in data catalog yaml file\n",
    "data_catalog[\"example_csv_data\"]"
   ]
  },
  {
   "attachments": {},
   "cell_type": "markdown",
   "id": "772e30f3",
   "metadata": {},
   "source": [
    "We can load any 2D tabular data using [DataCatalog.get_dataframe()](https://deltares.github.io/hydromt/latest/_generated/hydromt.data_adapter.DataCatalog.get_dataframe.rst). Note that if we don't provide any arguments it returns the full dataframe. "
   ]
  },
  {
   "cell_type": "code",
   "execution_count": null,
   "id": "0a590ebd",
   "metadata": {},
   "outputs": [],
   "source": [
    "df = data_catalog.get_dataframe(\"example_csv_data\")\n",
    "df.head()"
   ]
  },
  {
   "attachments": {},
   "cell_type": "markdown",
   "id": "eda1aa26",
   "metadata": {},
   "source": [
    "The data can be visualized with the [.plot()](https://pandas.pydata.org/pandas-docs/stable/reference/api/pandas.DataFrame.plot.html) pandas method. "
   ]
  },
  {
   "cell_type": "code",
   "execution_count": null,
   "id": "6b90f96d",
   "metadata": {},
   "outputs": [],
   "source": [
    "df.plot(y=\"col1\")"
   ]
  },
  {
   "attachments": {},
   "cell_type": "markdown",
   "id": "f4257b91",
   "metadata": {},
   "source": [
    "### reclassification table"
   ]
  },
  {
   "attachments": {},
   "cell_type": "markdown",
   "id": "0d3c5653",
   "metadata": {},
   "source": [
    "Another typical usecase for tabular data are reclassification tables to reclassify e.g. land use data to manning roughness. An example of this data is shown in the cells below. Note tha the values are not validated and likely too high!"
   ]
  },
  {
   "cell_type": "code",
   "execution_count": null,
   "id": "9f1f860a",
   "metadata": {},
   "outputs": [],
   "source": [
    "# read both the vito_reclass and artifact_data data catalogs\n",
    "data_catalog = DataCatalog([\"data/vito_reclass.yml\", \"artifact_data\"], logger=logger)\n",
    "data_catalog[\"vito_reclass\"]"
   ]
  },
  {
   "cell_type": "code",
   "execution_count": null,
   "id": "98c2fbac",
   "metadata": {},
   "outputs": [],
   "source": [
    "df = data_catalog.get_dataframe(\"vito_reclass\")\n",
    "df.head()"
   ]
  },
  {
   "cell_type": "code",
   "execution_count": null,
   "id": "2b4fe799",
   "metadata": {},
   "outputs": [],
   "source": [
    "da_lulc = data_catalog.get_rasterdataset(\"vito\")\n",
    "da_man = da_lulc.raster.reclassify(df[[\"manning\"]])\n",
    "da_man[\"manning\"].plot.imshow()"
   ]
  }
 ],
 "metadata": {
  "kernelspec": {
   "display_name": "hydromt-dev",
   "language": "python",
   "name": "python3"
  },
  "language_info": {
   "codemirror_mode": {
    "name": "ipython",
    "version": 3
   },
   "file_extension": ".py",
   "mimetype": "text/x-python",
   "name": "python",
   "nbconvert_exporter": "python",
   "pygments_lexer": "ipython3",
   "version": "3.10.8"
  },
  "vscode": {
   "interpreter": {
    "hash": "3808d5b5b54949c7a0a707a38b0a689040fa9c90ab139a050e41373880719ab1"
   }
  }
 },
 "nbformat": 4,
 "nbformat_minor": 5
}
