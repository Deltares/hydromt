{
    "cells": [
        {
            "attachments": {},
            "cell_type": "markdown",
            "id": "87e8269e",
            "metadata": {},
            "source": [
                "## Example: Reading vector data"
            ]
        },
        {
            "attachments": {},
            "cell_type": "markdown",
            "id": "29a06345",
            "metadata": {},
            "source": [
                "This example illustrates the how to read raster data using the HydroMT [DataCatalog](https://deltares.github.io/hydromt/latest/_generated/hydromt.data_catalog.DataCatalog.html) with the `vector` or `vector_table`  drivers."
            ]
        },
        {
            "cell_type": "code",
            "execution_count": 1,
            "id": "ee2e0013",
            "metadata": {},
            "outputs": [],
            "source": [
                "# import hydromt and setup logging\n",
                "import geopandas as gpd\n",
                "import pandas as pd\n",
                "import hydromt"
            ]
        },
        {
            "cell_type": "code",
            "execution_count": 2,
            "id": "dbd6017b",
            "metadata": {},
            "outputs": [],
            "source": [
                "# Download artifacts for the Piave basin to `~/.hydromt_data/`.\n",
                "data_catalog = hydromt.DataCatalog(data_libs=[\"artifact_data=v1.0.0\"])"
            ]
        },
        {
            "attachments": {},
            "cell_type": "markdown",
            "id": "bfdd7db0",
            "metadata": {},
            "source": [
                "## Vector driver"
            ]
        },
        {
            "attachments": {},
            "cell_type": "markdown",
            "id": "56986e7b",
            "metadata": {},
            "source": [
                "To read vector data and parse it into a [geopandas.GeoDataFrame](https://geopandas.org/en/stable/docs/reference/api/geopandas.GeoDataFrame.html) object we use the [geopandas.read_file](https://geopandas.org/en/stable/docs/reference/api/geopandas.read_file.html) method, see the [geopandas documentation](https://geopandas.org/en/stable/docs/user_guide/io.html#reading-spatial-data) for details. Geopandas supports many file formats, see below. For large datasets we recommend using data formats which contain a spatial index, such as 'GeoPackage (GPKG)' or 'FlatGeoBuf' to speed up reading spatial subsets of the data."
            ]
        },
        {
            "cell_type": "code",
            "execution_count": 3,
            "id": "48803984",
            "metadata": {},
            "outputs": [],
            "source": [
                "# uncomment to see list of supported file formats\n",
                "# import fiona\n",
                "# print(list(fiona.supported_drivers.keys()))"
            ]
        },
        {
            "attachments": {},
            "cell_type": "markdown",
            "id": "cf9db47e",
            "metadata": {},
            "source": [
                "Here we use a spatial subset of the [Database of Global Administrative Areas (GADM)](https://gadm.org/download_world.html) level 3 units."
            ]
        },
        {
            "cell_type": "code",
            "execution_count": 4,
            "id": "2c8f2ecd",
            "metadata": {},
            "outputs": [
                {
                    "data": {
                        "text/plain": [
                            "GeoDataFrameSource(name='gadm_level3', uri='gadm_level3.gpkg', data_adapter=GeoDataFrameAdapter(unit_add={}, unit_mult={}, rename={}), driver=PyogrioDriver(filesystem=<fsspec.implementations.local.LocalFileSystem object at 0x000002A67705D400>, options={}), uri_resolver=ConventionResolver(filesystem=<fsspec.implementations.local.LocalFileSystem object at 0x000002A67705D400>, options={}), root='C:\\\\Users\\\\vente\\\\.hydromt\\\\artifact_data\\\\v1.0.0', version=None, provider=None, metadata=SourceMetadata(crs=<Geographic 2D CRS: EPSG:4326>\n",
                            "Name: WGS 84\n",
                            "Axis Info [ellipsoidal]:\n",
                            "- Lat[north]: Geodetic latitude (degree)\n",
                            "- Lon[east]: Geodetic longitude (degree)\n",
                            "Area of Use:\n",
                            "- name: World.\n",
                            "- bounds: (-180.0, -90.0, 180.0, 90.0)\n",
                            "Datum: World Geodetic System 1984 ensemble\n",
                            "- Ellipsoid: WGS 84\n",
                            "- Prime Meridian: Greenwich\n",
                            ", unit=None, extent={}, nodata=None, attrs={}, category='geography', notes='last downloaded 2020-10-19; license required for commercial use', url='https://gadm.org/download_world.html', author='gadm', version=1.0, license='https://gadm.org/license.html'))"
                        ]
                    },
                    "execution_count": 4,
                    "metadata": {},
                    "output_type": "execute_result"
                }
            ],
            "source": [
                "# inspect data source entry in data catalog yaml file\n",
                "data_catalog.get_source(\"gadm_level3\")"
            ]
        },
        {
            "attachments": {},
            "cell_type": "markdown",
            "id": "772e30f3",
            "metadata": {},
            "source": [
                "We can load any GeoDataFrame using the [get_geodataframe()](https://deltares.github.io/hydromt/latest/_generated/hydromt.data_catalog.DataCatalog.get_geodataframe.html) method of the DataCatalog. Note that if we don't provide any arguments it returns the full dataset with nine data variables and for the full spatial domain. Only the data coordinates are actually read, the data variables are still loaded lazy."
            ]
        },
        {
            "cell_type": "code",
            "execution_count": 5,
            "id": "0a590ebd",
            "metadata": {},
            "outputs": [
                {
                    "name": "stderr",
                    "output_type": "stream",
                    "text": [
                        "object: PyogrioDriver does not use kwarg predicate with value intersects.\n",
                        "object: PyogrioDriver does not use kwarg metadata with value crs=<Geographic 2D CRS: EPSG:4326>\n",
                        "Name: WGS 84\n",
                        "Axis Info [ellipsoidal]:\n",
                        "- Lat[north]: Geodetic latitude (degree)\n",
                        "- Lon[east]: Geodetic longitude (degree)\n",
                        "Area of Use:\n",
                        "- name: World.\n",
                        "- bounds: (-180.0, -90.0, 180.0, 90.0)\n",
                        "Datum: World Geodetic System 1984 ensemble\n",
                        "- Ellipsoid: WGS 84\n",
                        "- Prime Meridian: Greenwich\n",
                        " unit=None extent={} nodata=None attrs={} category='geography' notes='last downloaded 2020-10-19; license required for commercial use' url='https://gadm.org/download_world.html' author='gadm' version=1.0 license='https://gadm.org/license.html'.\n"
                    ]
                },
                {
                    "name": "stdout",
                    "output_type": "stream",
                    "text": [
                        "number of rows: 509\n"
                    ]
                },
                {
                    "data": {
                        "text/html": [
                            "<div>\n",
                            "<style scoped>\n",
                            "    .dataframe tbody tr th:only-of-type {\n",
                            "        vertical-align: middle;\n",
                            "    }\n",
                            "\n",
                            "    .dataframe tbody tr th {\n",
                            "        vertical-align: top;\n",
                            "    }\n",
                            "\n",
                            "    .dataframe thead th {\n",
                            "        text-align: right;\n",
                            "    }\n",
                            "</style>\n",
                            "<table border=\"1\" class=\"dataframe\">\n",
                            "  <thead>\n",
                            "    <tr style=\"text-align: right;\">\n",
                            "      <th></th>\n",
                            "      <th>GID_0</th>\n",
                            "      <th>NAME_0</th>\n",
                            "      <th>GID_1</th>\n",
                            "      <th>NAME_1</th>\n",
                            "      <th>NL_NAME_1</th>\n",
                            "      <th>GID_2</th>\n",
                            "      <th>NAME_2</th>\n",
                            "      <th>NL_NAME_2</th>\n",
                            "      <th>GID_3</th>\n",
                            "      <th>NAME_3</th>\n",
                            "      <th>VARNAME_3</th>\n",
                            "      <th>NL_NAME_3</th>\n",
                            "      <th>TYPE_3</th>\n",
                            "      <th>ENGTYPE_3</th>\n",
                            "      <th>CC_3</th>\n",
                            "      <th>HASC_3</th>\n",
                            "      <th>geometry</th>\n",
                            "    </tr>\n",
                            "  </thead>\n",
                            "  <tbody>\n",
                            "    <tr>\n",
                            "      <th>0</th>\n",
                            "      <td>ITA</td>\n",
                            "      <td>Italy</td>\n",
                            "      <td>ITA.17_1</td>\n",
                            "      <td>Trentino-Alto Adige</td>\n",
                            "      <td>None</td>\n",
                            "      <td>ITA.17.2_1</td>\n",
                            "      <td>Trento</td>\n",
                            "      <td>None</td>\n",
                            "      <td>ITA.17.2.143_1</td>\n",
                            "      <td>Predazzo</td>\n",
                            "      <td>None</td>\n",
                            "      <td>None</td>\n",
                            "      <td>Commune</td>\n",
                            "      <td>Commune</td>\n",
                            "      <td>None</td>\n",
                            "      <td>IT.TN.PA</td>\n",
                            "      <td>MULTIPOLYGON (((11.74692 46.30762, 11.74614 46...</td>\n",
                            "    </tr>\n",
                            "    <tr>\n",
                            "      <th>1</th>\n",
                            "      <td>ITA</td>\n",
                            "      <td>Italy</td>\n",
                            "      <td>ITA.17_1</td>\n",
                            "      <td>Trentino-Alto Adige</td>\n",
                            "      <td>None</td>\n",
                            "      <td>ITA.17.2_1</td>\n",
                            "      <td>Trento</td>\n",
                            "      <td>None</td>\n",
                            "      <td>ITA.17.2.115_1</td>\n",
                            "      <td>Moena</td>\n",
                            "      <td>None</td>\n",
                            "      <td>None</td>\n",
                            "      <td>Commune</td>\n",
                            "      <td>Commune</td>\n",
                            "      <td>None</td>\n",
                            "      <td>IT.TN.MN</td>\n",
                            "      <td>MULTIPOLYGON (((11.82119 46.37751, 11.82013 46...</td>\n",
                            "    </tr>\n",
                            "    <tr>\n",
                            "      <th>2</th>\n",
                            "      <td>ITA</td>\n",
                            "      <td>Italy</td>\n",
                            "      <td>ITA.17_1</td>\n",
                            "      <td>Trentino-Alto Adige</td>\n",
                            "      <td>None</td>\n",
                            "      <td>ITA.17.2_1</td>\n",
                            "      <td>Trento</td>\n",
                            "      <td>None</td>\n",
                            "      <td>ITA.17.2.214_1</td>\n",
                            "      <td>Vigo Di Fassa</td>\n",
                            "      <td>None</td>\n",
                            "      <td>None</td>\n",
                            "      <td>Commune</td>\n",
                            "      <td>Commune</td>\n",
                            "      <td>None</td>\n",
                            "      <td>IT.TN.VD</td>\n",
                            "      <td>MULTIPOLYGON (((11.62028 46.43951, 11.62063 46...</td>\n",
                            "    </tr>\n",
                            "    <tr>\n",
                            "      <th>3</th>\n",
                            "      <td>ITA</td>\n",
                            "      <td>Italy</td>\n",
                            "      <td>ITA.17_1</td>\n",
                            "      <td>Trentino-Alto Adige</td>\n",
                            "      <td>None</td>\n",
                            "      <td>ITA.17.2_1</td>\n",
                            "      <td>Trento</td>\n",
                            "      <td>None</td>\n",
                            "      <td>ITA.17.2.36_1</td>\n",
                            "      <td>Canal San Bovo</td>\n",
                            "      <td>None</td>\n",
                            "      <td>None</td>\n",
                            "      <td>Commune</td>\n",
                            "      <td>Commune</td>\n",
                            "      <td>None</td>\n",
                            "      <td>IT.TN.CB</td>\n",
                            "      <td>MULTIPOLYGON (((11.75179 46.10603, 11.7521 46....</td>\n",
                            "    </tr>\n",
                            "    <tr>\n",
                            "      <th>4</th>\n",
                            "      <td>ITA</td>\n",
                            "      <td>Italy</td>\n",
                            "      <td>ITA.17_1</td>\n",
                            "      <td>Trentino-Alto Adige</td>\n",
                            "      <td>None</td>\n",
                            "      <td>ITA.17.2_1</td>\n",
                            "      <td>Trento</td>\n",
                            "      <td>None</td>\n",
                            "      <td>ITA.17.2.141_1</td>\n",
                            "      <td>Pozza Di Fassa</td>\n",
                            "      <td>None</td>\n",
                            "      <td>None</td>\n",
                            "      <td>Commune</td>\n",
                            "      <td>Commune</td>\n",
                            "      <td>None</td>\n",
                            "      <td>IT.TN.PF</td>\n",
                            "      <td>MULTIPOLYGON (((11.70521 46.401, 11.70519 46.4...</td>\n",
                            "    </tr>\n",
                            "  </tbody>\n",
                            "</table>\n",
                            "</div>"
                        ],
                        "text/plain": [
                            "  GID_0 NAME_0     GID_1               NAME_1 NL_NAME_1       GID_2  NAME_2  \\\n",
                            "0   ITA  Italy  ITA.17_1  Trentino-Alto Adige      None  ITA.17.2_1  Trento   \n",
                            "1   ITA  Italy  ITA.17_1  Trentino-Alto Adige      None  ITA.17.2_1  Trento   \n",
                            "2   ITA  Italy  ITA.17_1  Trentino-Alto Adige      None  ITA.17.2_1  Trento   \n",
                            "3   ITA  Italy  ITA.17_1  Trentino-Alto Adige      None  ITA.17.2_1  Trento   \n",
                            "4   ITA  Italy  ITA.17_1  Trentino-Alto Adige      None  ITA.17.2_1  Trento   \n",
                            "\n",
                            "  NL_NAME_2           GID_3          NAME_3 VARNAME_3 NL_NAME_3   TYPE_3  \\\n",
                            "0      None  ITA.17.2.143_1        Predazzo      None      None  Commune   \n",
                            "1      None  ITA.17.2.115_1           Moena      None      None  Commune   \n",
                            "2      None  ITA.17.2.214_1   Vigo Di Fassa      None      None  Commune   \n",
                            "3      None   ITA.17.2.36_1  Canal San Bovo      None      None  Commune   \n",
                            "4      None  ITA.17.2.141_1  Pozza Di Fassa      None      None  Commune   \n",
                            "\n",
                            "  ENGTYPE_3  CC_3    HASC_3                                           geometry  \n",
                            "0   Commune  None  IT.TN.PA  MULTIPOLYGON (((11.74692 46.30762, 11.74614 46...  \n",
                            "1   Commune  None  IT.TN.MN  MULTIPOLYGON (((11.82119 46.37751, 11.82013 46...  \n",
                            "2   Commune  None  IT.TN.VD  MULTIPOLYGON (((11.62028 46.43951, 11.62063 46...  \n",
                            "3   Commune  None  IT.TN.CB  MULTIPOLYGON (((11.75179 46.10603, 11.7521 46....  \n",
                            "4   Commune  None  IT.TN.PF  MULTIPOLYGON (((11.70521 46.401, 11.70519 46.4...  "
                        ]
                    },
                    "execution_count": 5,
                    "metadata": {},
                    "output_type": "execute_result"
                }
            ],
            "source": [
                "gdf = data_catalog.get_geodataframe(\"gadm_level3\")\n",
                "print(f\"number of rows: {gdf.index.size}\")\n",
                "gdf.head()"
            ]
        },
        {
            "attachments": {},
            "cell_type": "markdown",
            "id": "c15c94cf",
            "metadata": {},
            "source": [
                "We can request a (spatial) subset data by providing additional `variables` and `bbox` / `geom` arguments. Note that this returns less polygons (rows) and only two columns with attribute data,"
            ]
        },
        {
            "cell_type": "code",
            "execution_count": 6,
            "id": "78dea245",
            "metadata": {},
            "outputs": [
                {
                    "name": "stderr",
                    "output_type": "stream",
                    "text": [
                        "object: ConventionResolver does not use kwarg mask with value                                             geometry\n",
                        "0  POLYGON ((11.8513 46.09649, 11.8513 46.47683, ....\n",
                        "object: PyogrioDriver does not use kwarg predicate with value intersects.\n",
                        "object: PyogrioDriver does not use kwarg metadata with value crs=<Geographic 2D CRS: EPSG:4326>\n",
                        "Name: WGS 84\n",
                        "Axis Info [ellipsoidal]:\n",
                        "- Lat[north]: Geodetic latitude (degree)\n",
                        "- Lon[east]: Geodetic longitude (degree)\n",
                        "Area of Use:\n",
                        "- name: World.\n",
                        "- bounds: (-180.0, -90.0, 180.0, 90.0)\n",
                        "Datum: World Geodetic System 1984 ensemble\n",
                        "- Ellipsoid: WGS 84\n",
                        "- Prime Meridian: Greenwich\n",
                        " unit=None extent={} nodata=None attrs={} category='geography' notes='last downloaded 2020-10-19; license required for commercial use' url='https://gadm.org/download_world.html' author='gadm' version=1.0 license='https://gadm.org/license.html'.\n"
                    ]
                },
                {
                    "name": "stdout",
                    "output_type": "stream",
                    "text": [
                        "number of rows: 28\n"
                    ]
                },
                {
                    "data": {
                        "text/html": [
                            "<div>\n",
                            "<style scoped>\n",
                            "    .dataframe tbody tr th:only-of-type {\n",
                            "        vertical-align: middle;\n",
                            "    }\n",
                            "\n",
                            "    .dataframe tbody tr th {\n",
                            "        vertical-align: top;\n",
                            "    }\n",
                            "\n",
                            "    .dataframe thead th {\n",
                            "        text-align: right;\n",
                            "    }\n",
                            "</style>\n",
                            "<table border=\"1\" class=\"dataframe\">\n",
                            "  <thead>\n",
                            "    <tr style=\"text-align: right;\">\n",
                            "      <th></th>\n",
                            "      <th>GID_0</th>\n",
                            "      <th>NAME_3</th>\n",
                            "      <th>geometry</th>\n",
                            "    </tr>\n",
                            "  </thead>\n",
                            "  <tbody>\n",
                            "    <tr>\n",
                            "      <th>0</th>\n",
                            "      <td>ITA</td>\n",
                            "      <td>Tonadico</td>\n",
                            "      <td>MULTIPOLYGON (((11.84245 46.30723, 11.83778 46...</td>\n",
                            "    </tr>\n",
                            "    <tr>\n",
                            "      <th>1</th>\n",
                            "      <td>ITA</td>\n",
                            "      <td>Siror</td>\n",
                            "      <td>MULTIPOLYGON (((11.86518 46.27297, 11.86086 46...</td>\n",
                            "    </tr>\n",
                            "    <tr>\n",
                            "      <th>2</th>\n",
                            "      <td>ITA</td>\n",
                            "      <td>Ziano Di Fiemme</td>\n",
                            "      <td>MULTIPOLYGON (((11.55856 46.32783, 11.56022 46...</td>\n",
                            "    </tr>\n",
                            "    <tr>\n",
                            "      <th>3</th>\n",
                            "      <td>ITA</td>\n",
                            "      <td>Predazzo</td>\n",
                            "      <td>MULTIPOLYGON (((11.74692 46.30762, 11.74614 46...</td>\n",
                            "    </tr>\n",
                            "    <tr>\n",
                            "      <th>4</th>\n",
                            "      <td>ITA</td>\n",
                            "      <td>Canale d' Agordo</td>\n",
                            "      <td>MULTIPOLYGON (((11.86518 46.27297, 11.86392 46...</td>\n",
                            "    </tr>\n",
                            "  </tbody>\n",
                            "</table>\n",
                            "</div>"
                        ],
                        "text/plain": [
                            "  GID_0            NAME_3                                           geometry\n",
                            "0   ITA          Tonadico  MULTIPOLYGON (((11.84245 46.30723, 11.83778 46...\n",
                            "1   ITA             Siror  MULTIPOLYGON (((11.86518 46.27297, 11.86086 46...\n",
                            "2   ITA   Ziano Di Fiemme  MULTIPOLYGON (((11.55856 46.32783, 11.56022 46...\n",
                            "3   ITA          Predazzo  MULTIPOLYGON (((11.74692 46.30762, 11.74614 46...\n",
                            "4   ITA  Canale d' Agordo  MULTIPOLYGON (((11.86518 46.27297, 11.86392 46..."
                        ]
                    },
                    "execution_count": 6,
                    "metadata": {},
                    "output_type": "execute_result"
                }
            ],
            "source": [
                "gdf_subset = data_catalog.get_geodataframe(\n",
                "    \"gadm_level3\", bbox=gdf[:5].total_bounds, variables=[\"GID_0\", \"NAME_3\"]\n",
                ")\n",
                "print(f\"number of rows: {gdf_subset.index.size}\")\n",
                "gdf_subset.head()"
            ]
        },
        {
            "attachments": {},
            "cell_type": "markdown",
            "id": "37e16b92",
            "metadata": {},
            "source": [
                "## Vector_table driver"
            ]
        },
        {
            "attachments": {},
            "cell_type": "markdown",
            "id": "f4df8e16",
            "metadata": {},
            "source": [
                "To read *point* vector data from a table (csv, xls or xlsx) we use the [open_vector_from_table](https://deltares.github.io/hydromt/latest/_generated/hydromt.io.open_vector_from_table.html) method."
            ]
        },
        {
            "cell_type": "code",
            "execution_count": 7,
            "id": "85690f18",
            "metadata": {},
            "outputs": [
                {
                    "name": "stderr",
                    "output_type": "stream",
                    "text": [
                        "C:\\Users\\vente\\AppData\\Local\\Temp\\ipykernel_4848\\3802768406.py:8: UserWarning: Geometry is in a geographic CRS. Results from 'centroid' are likely incorrect. Use 'GeoSeries.to_crs()' to re-project geometries to a projected CRS before this operation.\n",
                        "\n",
                        "  data=np.vstack([gdf_subset.centroid.x, gdf_subset.centroid.y]).T,\n"
                    ]
                },
                {
                    "data": {
                        "text/html": [
                            "<div>\n",
                            "<style scoped>\n",
                            "    .dataframe tbody tr th:only-of-type {\n",
                            "        vertical-align: middle;\n",
                            "    }\n",
                            "\n",
                            "    .dataframe tbody tr th {\n",
                            "        vertical-align: top;\n",
                            "    }\n",
                            "\n",
                            "    .dataframe thead th {\n",
                            "        text-align: right;\n",
                            "    }\n",
                            "</style>\n",
                            "<table border=\"1\" class=\"dataframe\">\n",
                            "  <thead>\n",
                            "    <tr style=\"text-align: right;\">\n",
                            "      <th></th>\n",
                            "      <th>x_centroid</th>\n",
                            "      <th>y</th>\n",
                            "      <th>name</th>\n",
                            "    </tr>\n",
                            "  </thead>\n",
                            "  <tbody>\n",
                            "    <tr>\n",
                            "      <th>0</th>\n",
                            "      <td>11.838395</td>\n",
                            "      <td>46.266421</td>\n",
                            "      <td>Tonadico</td>\n",
                            "    </tr>\n",
                            "    <tr>\n",
                            "      <th>1</th>\n",
                            "      <td>11.790629</td>\n",
                            "      <td>46.250124</td>\n",
                            "      <td>Siror</td>\n",
                            "    </tr>\n",
                            "    <tr>\n",
                            "      <th>2</th>\n",
                            "      <td>11.583526</td>\n",
                            "      <td>46.271041</td>\n",
                            "      <td>Ziano Di Fiemme</td>\n",
                            "    </tr>\n",
                            "    <tr>\n",
                            "      <th>3</th>\n",
                            "      <td>11.644162</td>\n",
                            "      <td>46.313247</td>\n",
                            "      <td>Predazzo</td>\n",
                            "    </tr>\n",
                            "    <tr>\n",
                            "      <th>4</th>\n",
                            "      <td>11.885507</td>\n",
                            "      <td>46.328140</td>\n",
                            "      <td>Canale d' Agordo</td>\n",
                            "    </tr>\n",
                            "  </tbody>\n",
                            "</table>\n",
                            "</div>"
                        ],
                        "text/plain": [
                            "   x_centroid          y              name\n",
                            "0   11.838395  46.266421          Tonadico\n",
                            "1   11.790629  46.250124             Siror\n",
                            "2   11.583526  46.271041   Ziano Di Fiemme\n",
                            "3   11.644162  46.313247          Predazzo\n",
                            "4   11.885507  46.328140  Canale d' Agordo"
                        ]
                    },
                    "execution_count": 7,
                    "metadata": {},
                    "output_type": "execute_result"
                }
            ],
            "source": [
                "# create example point CSV data with funny `x` coordinate name and additional column\n",
                "import numpy as np\n",
                "import pandas as pd\n",
                "\n",
                "path = \"tmpdir/xy.csv\"\n",
                "df = pd.DataFrame(\n",
                "    columns=[\"x_centroid\", \"y\"],\n",
                "    data=np.vstack([gdf_subset.centroid.x, gdf_subset.centroid.y]).T,\n",
                ")\n",
                "df[\"name\"] = gdf_subset[\"NAME_3\"]\n",
                "df.to_csv(path)  # write to file\n",
                "df.head()"
            ]
        },
        {
            "cell_type": "code",
            "execution_count": 14,
            "id": "276ab197",
            "metadata": {},
            "outputs": [
                {
                    "data": {
                        "text/plain": [
                            "GeoDataFrameSource(name='GADM_level3_centroids', uri='tmpdir/xy.csv', data_adapter=GeoDataFrameAdapter(unit_add={}, unit_mult={}, rename={}), driver=GeoDataFrameTableDriver(filesystem=<fsspec.implementations.local.LocalFileSystem object at 0x000002A67705D400>, options={'x_dim': 'x_centroid'}), uri_resolver=ConventionResolver(filesystem=<fsspec.implementations.local.LocalFileSystem object at 0x000002A67705D400>, options={}), root=None, version=None, provider=None, metadata=SourceMetadata(crs=<Geographic 2D CRS: EPSG:4326>\n",
                            "Name: WGS 84\n",
                            "Axis Info [ellipsoidal]:\n",
                            "- Lat[north]: Geodetic latitude (degree)\n",
                            "- Lon[east]: Geodetic longitude (degree)\n",
                            "Area of Use:\n",
                            "- name: World.\n",
                            "- bounds: (-180.0, -90.0, 180.0, 90.0)\n",
                            "Datum: World Geodetic System 1984 ensemble\n",
                            "- Ellipsoid: WGS 84\n",
                            "- Prime Meridian: Greenwich\n",
                            ", unit=None, extent={}, nodata=None, attrs={}, category=None))"
                        ]
                    },
                    "execution_count": 14,
                    "metadata": {},
                    "output_type": "execute_result"
                }
            ],
            "source": [
                "# Because the data we wrote does not live in the root of the data catalog we'll have to\n",
                "# start with a new one \n",
                "data_catalog= hydromt.DataCatalog(data_libs=None)\n",
                "\n",
                "# Create data source entry for the data catalog for the new csv data\n",
                "# NOTE that we add specify the name of the x coordinate with the `x_dim` argument, while\n",
                "# the y coordinate is understood by HydroMT.\n",
                "data_source = {\n",
                "    \"GADM_level3_centroids\": {\n",
                "        \"uri\": path,\n",
                "        \"data_type\": \"GeoDataFrame\",\n",
                "        \"driver\": {\n",
                "            \"name\":\"geodataframe_table\",\n",
                "            \"options\":{\"x_dim\": \"x_centroid\"}\n",
                "        },\n",
                "        \"metadata\":{\n",
                "            \"crs\": 4326\n",
                "        }\n",
                "    }\n",
                "}\n",
                "data_catalog.from_dict(data_source)\n",
                "data_catalog.get_source(\"GADM_level3_centroids\")"
            ]
        },
        {
            "cell_type": "code",
            "execution_count": 15,
            "id": "7a14e4ec",
            "metadata": {},
            "outputs": [
                {
                    "data": {
                        "text/plain": [
                            "GeoDataFrameSource(name='GADM_level3_centroids', uri='tmpdir/xy.csv', data_adapter=GeoDataFrameAdapter(unit_add={}, unit_mult={}, rename={}), driver=GeoDataFrameTableDriver(filesystem=<fsspec.implementations.local.LocalFileSystem object at 0x000002A67705D400>, options={'x_dim': 'x_centroid'}), uri_resolver=ConventionResolver(filesystem=<fsspec.implementations.local.LocalFileSystem object at 0x000002A67705D400>, options={}), root=None, version=None, provider=None, metadata=SourceMetadata(crs=<Geographic 2D CRS: EPSG:4326>\n",
                            "Name: WGS 84\n",
                            "Axis Info [ellipsoidal]:\n",
                            "- Lat[north]: Geodetic latitude (degree)\n",
                            "- Lon[east]: Geodetic longitude (degree)\n",
                            "Area of Use:\n",
                            "- name: World.\n",
                            "- bounds: (-180.0, -90.0, 180.0, 90.0)\n",
                            "Datum: World Geodetic System 1984 ensemble\n",
                            "- Ellipsoid: WGS 84\n",
                            "- Prime Meridian: Greenwich\n",
                            ", unit=None, extent={}, nodata=None, attrs={}, category=None))"
                        ]
                    },
                    "execution_count": 15,
                    "metadata": {},
                    "output_type": "execute_result"
                }
            ],
            "source": [
                "data_catalog.get_source(\"GADM_level3_centroids\")"
            ]
        },
        {
            "cell_type": "code",
            "execution_count": 16,
            "id": "bc99f38e",
            "metadata": {},
            "outputs": [
                {
                    "name": "stderr",
                    "output_type": "stream",
                    "text": [
                        "object: GeoDataFrameTableDriver does not use kwarg predicate with value intersects.\n"
                    ]
                },
                {
                    "name": "stdout",
                    "output_type": "stream",
                    "text": [
                        "CRS: EPSG:4326\n"
                    ]
                },
                {
                    "data": {
                        "text/html": [
                            "<div>\n",
                            "<style scoped>\n",
                            "    .dataframe tbody tr th:only-of-type {\n",
                            "        vertical-align: middle;\n",
                            "    }\n",
                            "\n",
                            "    .dataframe tbody tr th {\n",
                            "        vertical-align: top;\n",
                            "    }\n",
                            "\n",
                            "    .dataframe thead th {\n",
                            "        text-align: right;\n",
                            "    }\n",
                            "</style>\n",
                            "<table border=\"1\" class=\"dataframe\">\n",
                            "  <thead>\n",
                            "    <tr style=\"text-align: right;\">\n",
                            "      <th></th>\n",
                            "      <th>name</th>\n",
                            "      <th>geometry</th>\n",
                            "    </tr>\n",
                            "  </thead>\n",
                            "  <tbody>\n",
                            "    <tr>\n",
                            "      <th>0</th>\n",
                            "      <td>Tonadico</td>\n",
                            "      <td>POINT (11.8384 46.26642)</td>\n",
                            "    </tr>\n",
                            "    <tr>\n",
                            "      <th>1</th>\n",
                            "      <td>Siror</td>\n",
                            "      <td>POINT (11.79063 46.25012)</td>\n",
                            "    </tr>\n",
                            "    <tr>\n",
                            "      <th>2</th>\n",
                            "      <td>Ziano Di Fiemme</td>\n",
                            "      <td>POINT (11.58353 46.27104)</td>\n",
                            "    </tr>\n",
                            "    <tr>\n",
                            "      <th>3</th>\n",
                            "      <td>Predazzo</td>\n",
                            "      <td>POINT (11.64416 46.31325)</td>\n",
                            "    </tr>\n",
                            "    <tr>\n",
                            "      <th>4</th>\n",
                            "      <td>Canale d' Agordo</td>\n",
                            "      <td>POINT (11.88551 46.32814)</td>\n",
                            "    </tr>\n",
                            "  </tbody>\n",
                            "</table>\n",
                            "</div>"
                        ],
                        "text/plain": [
                            "               name                   geometry\n",
                            "0          Tonadico   POINT (11.8384 46.26642)\n",
                            "1             Siror  POINT (11.79063 46.25012)\n",
                            "2   Ziano Di Fiemme  POINT (11.58353 46.27104)\n",
                            "3          Predazzo  POINT (11.64416 46.31325)\n",
                            "4  Canale d' Agordo  POINT (11.88551 46.32814)"
                        ]
                    },
                    "execution_count": 16,
                    "metadata": {},
                    "output_type": "execute_result"
                }
            ],
            "source": [
                "# we can then read the data back as a GeoDataFrame\n",
                "gdf_centroid = data_catalog.get_geodataframe(\"GADM_level3_centroids\")\n",
                "print(f\"CRS: {gdf_centroid.crs}\")\n",
                "gdf_centroid.head()"
            ]
        },
        {
            "attachments": {},
            "cell_type": "markdown",
            "id": "5f1f4350",
            "metadata": {},
            "source": [
                "## Visualize vector data"
            ]
        },
        {
            "attachments": {},
            "cell_type": "markdown",
            "id": "eda1aa26",
            "metadata": {},
            "source": [
                "The data can be visualized with the [.plot()](https://geopandas.org/en/stable/docs/reference/api/geopandas.GeoDataFrame.plot.html) geopandas method. In an interactive environment you can also try the [.explore()](https://geopandas.org/en/stable/docs/reference/api/geopandas.GeoDataFrame.explore.html) method"
            ]
        },
        {
            "cell_type": "code",
            "execution_count": 17,
            "id": "6b90f96d",
            "metadata": {},
            "outputs": [
                {
                    "data": {
                        "text/plain": [
                            "<Axes: >"
                        ]
                    },
                    "execution_count": 17,
                    "metadata": {},
                    "output_type": "execute_result"
                },
                {
                    "data": {
                        "image/png": "[encoded data removed]",
                        "text/plain": [
                            "<Figure size 640x480 with 1 Axes>"
                        ]
                    },
                    "metadata": {},
                    "output_type": "display_data"
                }
            ],
            "source": [
                "# m = gdf.explore(width='20%', height='50%')\n",
                "# gdf_subset.explore(m=m, color='red')  # subset in red\n",
                "# m\n",
                "\n",
                "ax = gdf.plot()\n",
                "gdf_subset.plot(ax=ax, color=\"red\")\n",
                "gdf_centroid.plot(ax=ax, color=\"k\")"
            ]
        },
        {
            "cell_type": "code",
            "execution_count": null,
            "id": "e4239c5a",
            "metadata": {},
            "outputs": [],
            "source": []
        }
    ],
    "metadata": {
        "kernelspec": {
            "display_name": "Python 3.10.5 ('hydromt-dev')",
            "language": "python",
            "name": "python3"
        },
        "language_info": {
            "codemirror_mode": {
                "name": "ipython",
                "version": 3
            },
            "file_extension": ".py",
            "mimetype": "text/x-python",
            "name": "python",
            "nbconvert_exporter": "python",
            "pygments_lexer": "ipython3",
            "version": "3.9.19"
        },
        "vscode": {
            "interpreter": {
                "hash": "3808d5b5b54949c7a0a707a38b0a689040fa9c90ab139a050e41373880719ab1"
            }
        }
    },
    "nbformat": 4,
    "nbformat_minor": 5
}
