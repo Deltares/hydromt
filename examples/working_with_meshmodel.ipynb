{
 "cells": [
  {
   "attachments": {},
   "cell_type": "markdown",
   "metadata": {},
   "source": [
    "## Example: Working with mesh models"
   ]
  },
  {
   "attachments": {},
   "cell_type": "markdown",
   "metadata": {},
   "source": [
    "The main feature of HydroMT is to facilitate the process of building and analyzing spatial geoscientific models with a focus on water system models. It does so by automating the workflow to go from raw data to a complete model instance which is ready to run and to analyse model results once the simulation has finished. \n",
    "\n",
    "This notebook will explore how to work with mesh models."
   ]
  },
  {
   "cell_type": "code",
   "execution_count": null,
   "metadata": {},
   "outputs": [],
   "source": [
    "# import hydromt and setup logging\n",
    "import hydromt\n",
    "from hydromt.log import setuplog\n",
    "\n",
    "# other imports\n",
    "import matplotlib.pyplot as plt\n",
    "import geopandas as gpd\n",
    "\n",
    "logger = setuplog(\"working with mesh models\", log_level=10)"
   ]
  },
  {
   "attachments": {},
   "cell_type": "markdown",
   "metadata": {},
   "source": [
    "### Check if mesh_model is available"
   ]
  },
  {
   "attachments": {},
   "cell_type": "markdown",
   "metadata": {},
   "source": [
    "To know which models are available within your active environment, you can use global `MODELS` variable in hydromt"
   ]
  },
  {
   "cell_type": "code",
   "execution_count": null,
   "metadata": {},
   "outputs": [],
   "source": [
    "# generic model classes\n",
    "print(f\"Generic model classes: {hydromt.MODELS.generic}\")\n",
    "# model classes from external plugin\n",
    "print(f\"Model classes from plugins: {hydromt.MODELS.plugins}\")"
   ]
  },
  {
   "attachments": {},
   "cell_type": "markdown",
   "metadata": {},
   "source": [
    "Here you may only see the generic models ``grid_model``, ``vector_model`` and ``network_model``. There is one more generic model within HydroMT ``mesh_model`` which is only available if the additional python mesh dependency *xugrid* is available in the activated environment. If not add xugrid to your environment."
   ]
  },
  {
   "attachments": {},
   "cell_type": "markdown",
   "metadata": {},
   "source": [
    "### Mesh component properties and preparation with setup_mesh2d method"
   ]
  },
  {
   "attachments": {},
   "cell_type": "markdown",
   "metadata": {},
   "source": [
    "The main component of ``MeshModel`` is the ``mesh`` object. The ``mesh`` object in HydroMT is defined using the [UgridDataset](https://deltares.github.io/xugrid/api/xugrid.UgridDataset.html#xugrid.UgridDataset) object of the [xugrid](https://deltares.github.io/xugrid/).\n",
    "\n",
    "The mesh object is able to contain 1D, 2D and/or 3D unstructured grid(s) according to the UGRID conventions. Several grids are supported and each grid should have a name to be able to select or prepare data for a specific one.\n",
    "\n",
    "Let's have a look at an example of ``MeshModel.mesh`` and the available properties:"
   ]
  },
  {
   "cell_type": "code",
   "execution_count": null,
   "metadata": {},
   "outputs": [],
   "source": [
    "# Instantiate a mesh model\n",
    "mod = hydromt.MeshModel(\n",
    "    root=\"data/mesh_model\",\n",
    "    mode=\"r\",\n",
    ")\n",
    "# Read the mesh\n",
    "mod.read_mesh(fn='mesh1d2d.nc', crs=3857)\n",
    "# Print the mesh\n",
    "print(type(mod.mesh))\n",
    "mod.mesh"
   ]
  },
  {
   "cell_type": "markdown",
   "metadata": {},
   "source": [
    "In HydroMT, you have a couple of [properties](https://deltares.github.io/hydromt/latest/api.html#id8) that allow you to get the names of the different grids in mesh *mesh_names*, extract a specific grid from the mesh with *mesh_datasets* or without data *mesh_grids* or convert the grids to geopandas.GeoDataFrame *mesh_gdf*.\n",
    "\n",
    "Let's check the available grids in our mesh and plot them:"
   ]
  },
  {
   "cell_type": "code",
   "execution_count": null,
   "metadata": {},
   "outputs": [],
   "source": [
    "mod.mesh_names"
   ]
  },
  {
   "cell_type": "code",
   "execution_count": null,
   "metadata": {},
   "outputs": [],
   "source": [
    "# Plot the different mesh grids\n",
    "fig, ax = plt.subplots(figsize = (5, 6))\n",
    "# Mesh2d\n",
    "mod.mesh_grids[\"mesh2d\"].plot(ax=ax, facecolor=\"none\", edgecolor=\"k\", label=\"mesh2d\")\n",
    "# Mesh1d\n",
    "mod.mesh_grids[\"network1d\"].plot(ax=ax, label=\"network1d\")\n",
    "\n",
    "# Plot legends\n",
    "ax.legend()\n",
    "ax.set_title(\"Mesh grids\")\n",
    "ax.set_xlabel(\"x\")\n",
    "ax.set_ylabel(\"y\")"
   ]
  },
  {
   "attachments": {},
   "cell_type": "markdown",
   "metadata": {},
   "source": [
    "\n",
    "With HydroMT, you can create a 2D mesh grid using the ``setup_mesh2d`` method. This method parses the [HydroMT region option](https://deltares.github.io/hydromt/latest/user_guide/model_region.html) to define the geographic region of interest and mesh of the MeshModel to build and once done, adds **region** into the `geoms` component and 2D grid into the `mesh` component. You can check the required arguments in the [docs](https://deltares.github.io/hydromt/latest/_generated/hydromt.MeshModel.setup_mesh2d.html)."
   ]
  },
  {
   "attachments": {},
   "cell_type": "markdown",
   "metadata": {},
   "source": [
    "With this method, you can generate a 2D regular mesh within a bounding box or geometry, or from reading an existing mesh file. We will see an example for both of them."
   ]
  },
  {
   "cell_type": "code",
   "execution_count": null,
   "metadata": {},
   "outputs": [],
   "source": [
    "# First instantiate a new mesh model\n",
    "root = \"tmp_mesh_model\"\n",
    "mod = hydromt.MeshModel(\n",
    "    root=root,\n",
    "    mode=\"w\",\n",
    "    data_libs=[\"artifact_data=v0.0.8\", \"data/vito_reclass.yml\"],\n",
    "    logger=logger,\n",
    ")"
   ]
  },
  {
   "cell_type": "code",
   "execution_count": null,
   "metadata": {},
   "outputs": [],
   "source": [
    "# Generate a 2D mesh from file\n",
    "region = {'mesh': 'data/mesh_model/mesh1d2d.nc', 'grid_name': 'mesh2d'}\n",
    "mod._mesh = None # delete the previous mesh\n",
    "mod.setup_mesh2d(\n",
    "    region=region,\n",
    "    crs = 3857,\n",
    "    grid_name=\"mesh2d\",\n",
    ")\n",
    "# Save and reset mesh\n",
    "mesh1 = mod.mesh_gdf[\"mesh2d\"].copy()\n",
    "mod._mesh = None\n",
    "\n",
    "# Generate a 2D mesh from bounding box and resolution\n",
    "region = {'bbox': [12.09, 46.45, 12.20, 46.50]}\n",
    "mod.setup_mesh2d(\n",
    "    region=region,\n",
    "    res=1000,\n",
    "    crs=3857,\n",
    "    grid_name=\"mesh2d\",\n",
    ")\n",
    "# Save and reset mesh\n",
    "mesh2 = mod.mesh_gdf[\"mesh2d\"].copy()\n",
    "\n"
   ]
  },
  {
   "cell_type": "code",
   "execution_count": null,
   "metadata": {},
   "outputs": [],
   "source": [
    "# Plot\n",
    "fig = plt.figure(figsize=(10, 4))\n",
    "ax = plt.subplot()\n",
    "# plot mesh1 mesh2 gdf without facecolor\n",
    "mesh1.plot(ax=ax, facecolor=\"none\", edgecolor=\"k\", label=\"mesh from bbox\")\n",
    "mesh2.plot(ax=ax, facecolor=\"pink\", edgecolor=\"r\", label=\"mesh from file\")"
   ]
  },
  {
   "cell_type": "markdown",
   "metadata": {},
   "source": [
    "### Add data to 2D mesh"
   ]
  },
  {
   "attachments": {},
   "cell_type": "markdown",
   "metadata": {},
   "source": [
    "To prepare and resample data to a 2D grid in mesh, the core for now has two methods available: [setup_mesh2d_from_rasterdataset](https://deltares.github.io/hydromt/latest/_generated/hydromt.MeshModel.setup_mesh2d_from_rasterdataset.html#hydromt.MeshModel.setup_mesh2d_from_rasterdataset) and [setup_mesh2d_from_raster_reclass](https://deltares.github.io/hydromt/latest/_generated/hydromt.MeshModel.setup_mesh2d_from_raster_reclass.html#hydromt.MeshModel.setup_mesh2d_from_raster_reclass).\n",
    "\n",
    "But back to our example, let's add both a DEM map from the data source *merit_hydro_1k* and a landuse and manning roughness map based on reclassified landuse data from the *vito* dataset to the mesh2d grid of our model mesh object.\n",
    "\n",
    "For this we will use xugrid Regridder methods to interpolate raster data to our mesh. Our current model resolution is 500*500 meters so for the different data source we will resample using the methods:\n",
    "\n",
    "- merit_hydro_1k: *centroid* as the resolution of the data is 1000*1000 meters. You could also choose mean or geometric_mean or others if you wish.\n",
    "- landuse: *mode* (most representative) as we want to conserve the land use classification values.\n",
    "- manning: the resolution of vito is 250*250 meters so we can choose to use for example the *mean* method."
   ]
  },
  {
   "cell_type": "code",
   "execution_count": null,
   "metadata": {},
   "outputs": [],
   "source": [
    "mod.setup_mesh2d_from_rasterdataset(\n",
    "    raster_fn=\"merit_hydro_1k\",\n",
    "    grid_name=\"mesh2d\",\n",
    "    variables=\"elevtn\",\n",
    "    fill_method=None,\n",
    "    resampling_method=\"centroid\",\n",
    "    rename={\"elevtn\": \"DEM\"},\n",
    ")\n",
    "mod.setup_mesh2d_from_raster_reclass(\n",
    "    raster_fn=\"vito\",\n",
    "    grid_name=\"mesh2d\",\n",
    "    fill_method=\"nearest\",\n",
    "    reclass_table_fn=\"vito_reclass\",  # Note: from local data catalog\n",
    "    reclass_variables=[\"landuse\", \"manning\"],\n",
    "    resampling_method=[\"mode\", \"mean\"],\n",
    ")"
   ]
  },
  {
   "cell_type": "code",
   "execution_count": null,
   "metadata": {},
   "outputs": [],
   "source": [
    "# Plot\n",
    "fig, axes = plt.subplots(nrows=1, ncols=3, figsize=(15, 4), sharey=True)\n",
    "mod.mesh[\"DEM\"].ugrid.plot(ax=axes[0], cmap=\"terrain\")\n",
    "axes[0].set_title(\"Elevation\")\n",
    "\n",
    "mod.mesh[\"landuse\"].ugrid.plot(ax=axes[1], cmap=\"Pastel1\")\n",
    "axes[1].set_title(\"Landuse\")\n",
    "\n",
    "mod.mesh[\"manning\"].ugrid.plot(ax=axes[2], cmap=\"viridis\")\n",
    "axes[2].set_title(\"Manning roughness\")"
   ]
  }
 ],
 "metadata": {
  "kernelspec": {
   "display_name": "Python 3 (ipykernel)",
   "language": "python",
   "name": "python3"
  },
  "language_info": {
   "codemirror_mode": {
    "name": "ipython",
    "version": 3
   },
   "file_extension": ".py",
   "mimetype": "text/x-python",
   "name": "python",
   "nbconvert_exporter": "python",
   "pygments_lexer": "ipython3",
   "version": "3.10.10"
  },
  "vscode": {
   "interpreter": {
    "hash": "3808d5b5b54949c7a0a707a38b0a689040fa9c90ab139a050e41373880719ab1"
   }
  }
 },
 "nbformat": 4,
 "nbformat_minor": 2
}
