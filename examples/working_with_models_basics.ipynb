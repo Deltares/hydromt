{
 "cells": [
  {
   "attachments": {},
   "cell_type": "markdown",
   "metadata": {},
   "source": [
    "## Example: Working with models from CLI"
   ]
  },
  {
   "attachments": {},
   "cell_type": "markdown",
   "metadata": {},
   "source": [
    "HydroMT has the following high-level functionality from the Command Line Interface (CLI) for setting up models from raw data or adjusting models:\n",
    "\n",
    "- **building** a model: building a model from scratch.\n",
    "- **updating** a model: adding or changing model components of an existing model.\n",
    "- **clipping** a model: changing the spatial domain of an existing model (e.g. select subbasins from a larger model).\n",
    "\n",
    "Here we show how to build and update a hypothetical distributed model from the command line interface (CLI) based on the generic HydroMT **Model**."
   ]
  },
  {
   "attachments": {},
   "cell_type": "markdown",
   "metadata": {},
   "source": [
    "Lets first check which models are available in our environment:"
   ]
  },
  {
   "cell_type": "code",
   "execution_count": 2,
   "metadata": {},
   "outputs": [
    {
     "name": "stdout",
     "output_type": "stream",
     "text": [
      "Usage: hydromt [OPTIONS] COMMAND [ARGS]...\n",
      "\n",
      "  Command line interface for hydromt models.\n",
      "\n",
      "Options:\n",
      "  --version     Show the version and exit.\n",
      "  --models      Print available model plugins and exit.\n",
      "  --components  Print available component plugins and exit.\n",
      "  --plugins     Print available component plugins and exit.\n",
      "  --help        Show this message and exit.\n",
      "\n",
      "Commands:\n",
      "  build   Build models\n",
      "  check   Validate config / data catalog / region\n",
      "  clip    Clip models.\n",
      "  export  Export data\n",
      "  update  Update models\n",
      "\u001b[0m"
     ]
    }
   ],
   "source": [
    "!hydromt --help"
   ]
  },
  {
   "cell_type": "code",
   "execution_count": 1,
   "metadata": {},
   "outputs": [
    {
     "name": "stdout",
     "output_type": "stream",
     "text": [
      "Model plugins:\n",
      "\t- model (hydromt 1.0.0a0)\n",
      "\u001b[0m"
     ]
    }
   ],
   "source": [
    "!hydromt --models"
   ]
  },
  {
   "cell_type": "code",
   "execution_count": 3,
   "metadata": {},
   "outputs": [
    {
     "name": "stdout",
     "output_type": "stream",
     "text": [
      "Component plugins:\n",
      "\t- ConfigComponent (hydromt 1.0.0a0)\n",
      "\t- DatasetsComponent (hydromt 1.0.0a0)\n",
      "\t- GeomsComponent (hydromt 1.0.0a0)\n",
      "\t- GridComponent (hydromt 1.0.0a0)\n",
      "\t- MeshComponent (hydromt 1.0.0a0)\n",
      "\t- SpatialDatasetsComponent (hydromt 1.0.0a0)\n",
      "\t- TablesComponent (hydromt 1.0.0a0)\n",
      "\t- VectorComponent (hydromt 1.0.0a0)\n",
      "\u001b[0m"
     ]
    }
   ],
   "source": [
    "!hydromt --components"
   ]
  },
  {
   "attachments": {},
   "cell_type": "markdown",
   "metadata": {},
   "source": [
    "### Build a model from CLI"
   ]
  },
  {
   "attachments": {},
   "cell_type": "markdown",
   "metadata": {},
   "source": [
    "TBC"
   ]
  }
 ],
 "metadata": {
  "kernelspec": {
   "display_name": "Python 3 (ipykernel)",
   "language": "python",
   "name": "python3"
  },
  "language_info": {
   "codemirror_mode": {
    "name": "ipython",
    "version": 3
   },
   "file_extension": ".py",
   "mimetype": "text/x-python",
   "name": "python",
   "nbconvert_exporter": "python",
   "pygments_lexer": "ipython3",
   "version": "3.11.9"
  },
  "vscode": {
   "interpreter": {
    "hash": "4107911daee865ab8b23da348e7348b24a775bdb6009ea2571458b9eceb9e334"
   }
  }
 },
 "nbformat": 4,
 "nbformat_minor": 4
}
