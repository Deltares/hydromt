{
 "cells": [
  {
   "cell_type": "markdown",
   "metadata": {},
   "source": [
    "## Example: Working with raster data"
   ]
  },
  {
   "cell_type": "code",
   "execution_count": null,
   "metadata": {},
   "outputs": [],
   "source": [
    "# import hydromt and initiate the test artifact_data catalog\n",
    "import hydromt\n",
    "from hydromt.log import setuplog\n",
    "\n",
    "logger = setuplog(\"raster data\", log_level=10)\n",
    "data_catalog = hydromt.DataCatalog(logger=logger, data_libs=[\"artifact_data=v0.0.8\"])"
   ]
  },
  {
   "cell_type": "markdown",
   "metadata": {},
   "source": [
    "Here, we illustrate some common GIS problems and how the functionality of the DataArray/Dataset [raster](https://deltares.github.io/hydromt/latest/api.html#raster-methods) accessor can be used. The data is accessed using the HydroMT [DataCatalog](https://deltares.github.io/hydromt/latest/api.html#data-catalog). For more information see the [Reading raster data](https://deltares.github.io/hydromt/latest/_examples/reading_raster_data.html) example."
   ]
  },
  {
   "cell_type": "markdown",
   "metadata": {},
   "source": [
    "Note that this implementation is based on a very earlier version of [rioxarray](https://corteva.github.io/rioxarray/stable/) and in fact we are using some of rioxarray functionality and working towards replacing our duplicated functionality with that of rioxarray and will try to contribute new functionality to rioxarray. The original reason for the raster data accessor was that we needed some changes in the internals of the writing methods for PCRaster data which is not fully supported by its GDAL driver. Currently the key difference between both packages, besides the naming of the accessor and some methods, are in new methods that have been added over time by both packages and the way that the raster attribute data is stored. In HydroMT this attribute data is always stored in the `spatial_ref` coordinate of the DataArray/Dataset whereas rioxarray uses additional attributes of the RasterDataset class. "
   ]
  },
  {
   "cell_type": "markdown",
   "metadata": {},
   "source": [
    "### Geospatial attributes "
   ]
  },
  {
   "cell_type": "markdown",
   "metadata": {},
   "source": [
    "Using the `raster` accessor we can get (and set) many geospatial properties of regular raster datasets. "
   ]
  },
  {
   "cell_type": "code",
   "execution_count": null,
   "metadata": {},
   "outputs": [],
   "source": [
    "# get the GHS population raster dataset from the catalog\n",
    "da = data_catalog.get_rasterdataset(\"ghs_pop_2015\").rename(\"population\")\n",
    "da.raster.mask_nodata().reset_coords(drop=True).plot(vmax=200)"
   ]
  },
  {
   "cell_type": "code",
   "execution_count": null,
   "metadata": {},
   "outputs": [],
   "source": [
    "# coordinate reference system\n",
    "da.raster.crs"
   ]
  },
  {
   "cell_type": "code",
   "execution_count": null,
   "metadata": {},
   "outputs": [],
   "source": [
    "# geospatial transform, see https://www.perrygeo.com/python-affine-transforms.html\n",
    "da.raster.transform"
   ]
  },
  {
   "cell_type": "code",
   "execution_count": null,
   "metadata": {},
   "outputs": [],
   "source": [
    "# names of x- and y dimensions\n",
    "(da.raster.x_dim, da.raster.y_dim)"
   ]
  },
  {
   "cell_type": "code",
   "execution_count": null,
   "metadata": {},
   "outputs": [],
   "source": [
    "# nodata value (or fillvalue) of a specific variable\n",
    "da.raster.nodata"
   ]
  },
  {
   "cell_type": "markdown",
   "metadata": {},
   "source": [
    "### Reproject (warp) raster data"
   ]
  },
  {
   "cell_type": "markdown",
   "metadata": {},
   "source": [
    "A common preprocessing step to generate model data is to make sure all data is in the same CRS. The [.raster.reproject()](https://deltares.github.io/hydromt/latest/_examples/reading_raster_data.html) are build on **rasterio** and **GDAL** and make this really easy for you. \n",
    "\n",
    "In this example we demonstrate how to reproject a population count grid. This grid should not be reprojected directly to other resolutions in order to conserve the total number of people. Therefore, we first derive the population density using [.raster.density_grid()](https://deltares.github.io/hydromt/latest/_generated/hydromt.DataArray.raster.density_grid.html) which can be reprojected and combined with the project grid cell area using [.raster.area_grid()](https://deltares.github.io/hydromt/latest/_generated/hydromt.DataArray.raster.area_grid.html) to calculate the final population count. Using this approach we only make a small error which we correct to preserve the total count. "
   ]
  },
  {
   "cell_type": "code",
   "execution_count": null,
   "metadata": {},
   "outputs": [],
   "source": [
    "from hydromt.gis_utils import utm_crs\n",
    "\n",
    "utm = utm_crs(da.raster.bounds)\n",
    "print(f\"Destination CRS: {utm}\")\n",
    "da_pop = da.raster.mask_nodata()\n",
    "da_pop_dens = da_pop.raster.density_grid().rename(\"population_dens\")  # pop.m-2\n",
    "da_pop_dens_utm = da_pop_dens.raster.reproject(\n",
    "    method=\"bilinear\", dst_crs=utm, dst_res=250\n",
    ")\n",
    "da_pop_utm = da_pop_dens_utm * da_pop_dens_utm.raster.area_grid()  # pop\n",
    "bias = (da_pop.sum() / da_pop_utm.sum()).compute().item()\n",
    "print(f\"Error: {(1-bias)*100:.3f}%\")\n",
    "da_pop_utm_adj = da_pop_utm * bias  # bias correct\n",
    "da_pop_utm_adj.name = \"population\"\n",
    "da_pop_utm_adj.reset_coords(drop=True).plot(vmax=200)"
   ]
  },
  {
   "cell_type": "markdown",
   "metadata": {},
   "source": [
    "### Zonal statistics"
   ]
  },
  {
   "cell_type": "markdown",
   "metadata": {},
   "source": [
    "For many vector models, zonal statistics are required to derive model parameters. The [.raster.zonal_stats()](https://deltares.github.io/hydromt/latest/_generated/hydromt.DataArray.raster.zonal_stats.html) method implements a range of statistics, but also allows for user defined statistics passed as a callable. Here we provide an example to get the population count per admin 3 level. HydroMT takes care that the vector data is reprojected to the raster data CRS if necessary."
   ]
  },
  {
   "cell_type": "code",
   "execution_count": null,
   "metadata": {},
   "outputs": [],
   "source": [
    "import xarray as xr\n",
    "import numpy as np\n",
    "\n",
    "gdf = data_catalog.get_geodataframe(\"gadm_level3\", variables=[\"NAME_3\"])\n",
    "ds = xr.merge(\n",
    "    [\n",
    "        da_pop.raster.zonal_stats(gdf, stats=[\"sum\"]) / 1e3,  # count [pop x1000]\n",
    "        da_pop_dens.raster.zonal_stats(gdf, stats=[\"max\", np.nanmax])\n",
    "        * 1e6,  # density [pop km-2]\n",
    "    ]\n",
    ")\n",
    "for var in ds.data_vars:\n",
    "    gdf[var] = ds[var]\n",
    "\n",
    "gdf.sort_values(\"population_sum\", ascending=False).head()"
   ]
  },
  {
   "cell_type": "code",
   "execution_count": null,
   "metadata": {},
   "outputs": [],
   "source": [
    "gdf.plot(\n",
    "    \"population_sum\",\n",
    "    scheme=\"NaturalBreaks\",\n",
    "    legend=True,\n",
    "    legend_kwds=dict(fmt=\"{:.0f}\", title=\"population [x1000]\"),\n",
    "    figsize=(6, 6),\n",
    ")"
   ]
  },
  {
   "cell_type": "markdown",
   "metadata": {},
   "source": [
    "### Interpolate nodata values"
   ]
  },
  {
   "cell_type": "markdown",
   "metadata": {},
   "source": [
    "To create a continuos grid with values gaps in the data can be filled trough interpolation. HydroMT has the [.raster.interpolate_na()](https://deltares.github.io/hydromt/latest/_generated/hydromt.DataArray.raster.interpolate_na.html) method with several interpolation options available. For the nearest, linear and cubic interpolation the [scipy.interpolate.griddata()](https://docs.scipy.org/doc/scipy/reference/generated/scipy.interpolate.griddata.html) method is used. First, a mesh of all valid values surrounding the data gaps is build using voronoi triangulation. Then, values are calculated for each grid cell with a nodata value. Note that nearest method also extrapolates, while the other methods only interpolate gaps. A final method is based on [rasterio.fill.fillnodata()](https://rasterio.readthedocs.io/en/latest/api/rasterio.fill.html) method."
   ]
  },
  {
   "cell_type": "code",
   "execution_count": null,
   "metadata": {},
   "outputs": [],
   "source": [
    "da_soil = data_catalog.get_rasterdataset(\n",
    "    \"soilgrids\", bbox=[12.7, 45.6, 13, 45.8], variables=[\"ph_sl1\"]\n",
    ")\n",
    "da_soil.raster.mask_nodata().plot()"
   ]
  },
  {
   "cell_type": "code",
   "execution_count": null,
   "metadata": {},
   "outputs": [],
   "source": [
    "# Note that data is only interpolated leaving a small nodata gap in the lower right corner. This can be extrapolated with the 'nearest' method.\n",
    "da_soil.raster.interpolate_na(method=\"linear\").raster.mask_nodata().plot()"
   ]
  },
  {
   "cell_type": "markdown",
   "metadata": {},
   "source": [
    "### Reproject and merge"
   ]
  },
  {
   "cell_type": "markdown",
   "metadata": {},
   "source": [
    "This example shows how to use the [.raster.reproject_like()](https://deltares.github.io/hydromt/latest/_generated/hydromt.DataArray.raster.reproject_like.html) method to align different datasets such that these are at identical grids and can be merged. "
   ]
  },
  {
   "cell_type": "code",
   "execution_count": null,
   "metadata": {},
   "outputs": [],
   "source": [
    "# step 1: read the data and mask nodata values\n",
    "bbox = [12.2, 45.3, 13, 45.8]\n",
    "da_dem = data_catalog.get_rasterdataset(\"merit_hydro\", variables=[\"elevtn\"], bbox=bbox)\n",
    "da_dem = da_dem.raster.mask_nodata()\n",
    "da_dem.attrs.update(units=\"m+EGM96\")\n",
    "print(f\"resolution MERIT Hydro: {da_dem.raster.res[0]:.05f}\")\n",
    "da_bath = data_catalog.get_rasterdataset(\"gebco\").raster.mask_nodata()\n",
    "print(f\"resolution GEBCO: {da_bath.raster.res[0]:.05f}\")\n",
    "da_mdt = data_catalog.get_rasterdataset(\"mdt_cnes_cls18\").raster.mask_nodata()\n",
    "print(f\"resolution MDT: {da_mdt.raster.res[0]:.05f}\")\n",
    "\n",
    "plot_kwargs = dict(\n",
    "    vmin=-50,\n",
    "    vmax=50,\n",
    "    cmap=\"coolwarm\",\n",
    ")\n",
    "da_dem.plot(**plot_kwargs)"
   ]
  },
  {
   "cell_type": "code",
   "execution_count": null,
   "metadata": {},
   "outputs": [],
   "source": [
    "# step 2: convert GEBCO to EGM96 ref and reproject to MERIT Hydro grid\n",
    "da_bath_egm = da_bath + da_mdt.raster.reproject_like(da_bath)\n",
    "da_bath_reproj = da_bath_egm.raster.reproject_like(da_dem, method=\"cubic\")\n",
    "print(f\"resolution reprojected GEBCO: {da_bath_reproj.raster.res[0]:.05f}\")\n",
    "da_dem_merged = da_dem.where(da_dem.notnull(), da_bath_reproj)\n",
    "da_dem_merged.plot(**plot_kwargs)"
   ]
  },
  {
   "cell_type": "markdown",
   "metadata": {},
   "source": [
    "### Write raster to file"
   ]
  },
  {
   "cell_type": "markdown",
   "metadata": {},
   "source": [
    "To write a dataset to a raster file the [.raster.to_raster()](https://deltares.github.io/hydromt/latest/_generated/hydromt.DataArray.raster.to_raster.html) can be used. By default the file is written in GeoTiff format. Each band is written as a layer of the raster file. A xarray.Dataset with multiple variables can be written to multiple files in a single folder, each with the name of the variable as basename with [.raster.to_mapstack()](https://deltares.github.io/hydromt/latest/_generated/hydromt.Dataset.raster.to_mapstack.html). \n",
    "\n",
    "Here, we use the merged DEM output of the previous example to write to file. To ensure the CRS and nodata metadata are written we first update these attributes of the data based on the original DEM data."
   ]
  },
  {
   "cell_type": "code",
   "execution_count": null,
   "metadata": {},
   "outputs": [],
   "source": [
    "da_dem_merged.raster.set_crs(da_dem.raster.crs)\n",
    "da_dem_merged.raster.set_nodata(-9999)\n",
    "da_dem_merged.raster.to_raster(\n",
    "    \"tmpdir/dem_merged.tif\", tags={\"history\": \"produced with HydroMT\"}\n",
    ")"
   ]
  },
  {
   "cell_type": "code",
   "execution_count": null,
   "metadata": {},
   "outputs": [],
   "source": [
    "# use gdalinfo to check output. Note the CRS (GEOGCRS), Metadata and NoData Value\n",
    "!gdalinfo tmpdir/dem_merged.tif"
   ]
  }
 ],
 "metadata": {
  "kernelspec": {
   "display_name": "hydromt",
   "language": "python",
   "name": "python3"
  },
  "language_info": {
   "codemirror_mode": {
    "name": "ipython",
    "version": 3
   },
   "file_extension": ".py",
   "mimetype": "text/x-python",
   "name": "python",
   "nbconvert_exporter": "python",
   "pygments_lexer": "ipython3",
   "version": "3.10.8"
  },
  "orig_nbformat": 4,
  "vscode": {
   "interpreter": {
    "hash": "a895fcaaafd08022b8aa09e2276bcb2b814a08f78fcbac21af5a9bf1657ce6c6"
   }
  }
 },
 "nbformat": 4,
 "nbformat_minor": 2
}
