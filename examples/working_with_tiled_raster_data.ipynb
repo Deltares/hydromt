{
 "cells": [
  {
   "attachments": {},
   "cell_type": "markdown",
   "metadata": {},
   "source": [
    "## Example: Reading tiled raster data with different zoom levels"
   ]
  },
  {
   "attachments": {},
   "cell_type": "markdown",
   "metadata": {},
   "source": [
    "This example will show how one can export raster dataset to individual tiles at differnt zoom levels and read the data via the via the [DataCatalog.get_rasterdataset](https://deltares.github.io/hydromt/latest/_generated/hydromt.data_catalog.DataCatalog.get_rasterdataset.html) method. "
   ]
  },
  {
   "cell_type": "code",
   "execution_count": null,
   "metadata": {},
   "outputs": [],
   "source": [
    "# Imports\n",
    "from hydromt import raster, DataCatalog\n",
    "from hydromt.log import setuplog\n",
    "from os.path import join\n",
    "\n",
    "logger = setuplog('tiling', log_level=20)\n",
    "\n",
    "# get some elevation data from the data catalog\n",
    "data_lib = \"artifact_data\"\n",
    "data_cat = DataCatalog(data_lib, logger=logger)\n",
    "source = \"merit_hydro\"\n",
    "da0 = data_cat.get_rasterdataset(source, variables=[\"elevtn\"])\n",
    "da0.raster.shape"
   ]
  },
  {
   "attachments": {},
   "cell_type": "markdown",
   "metadata": {},
   "source": [
    "`da0` is gridded data as a xarray.DataArray object. \n",
    "With HydroMT a xarray.DataArray has some extra functionality via `.raster`\n",
    "This extra functionality does include the ability to write a raster to a tile database (tiling).\n"
   ]
  },
  {
   "attachments": {},
   "cell_type": "markdown",
   "metadata": {},
   "source": [
    "### tiling raster with XYZ stucture\n",
    "\n",
    "First let's have a look at the XYZ structure.\n",
    "A xarray.DataArray is simple written to a tile database in XYZ structure via .raster.to_xyz_tiles\n",
    "\n"
   ]
  },
  {
   "cell_type": "code",
   "execution_count": null,
   "metadata": {},
   "outputs": [],
   "source": [
    "# Write the database in XYZ stucture\n",
    "name = f\"{source}_xyz\"\n",
    "root = join(\"tmpdir\", name)\n",
    "zoom_levels = [0, 1, 2, 3, 5]  # note that you can skip a zoom level\n",
    "da0.raster.to_xyz_tiles(\n",
    "    root=root,\n",
    "    tile_size=256,\n",
    "    zoom_levels=zoom_levels,\n",
    "    driver=\"GTiff\",  # try also 'netcdf4'\n",
    "    compress=\"deflate\",\n",
    ")"
   ]
  },
  {
   "attachments": {},
   "cell_type": "markdown",
   "metadata": {},
   "source": [
    "The tiles in the 'merit_hydro_xyz' folder now contains the zoom_levels as defined above. \n",
    "\n",
    "zoomlevel 0 is at the scale of the xarray.DataArray (one on one). zoomlevel 1 is downscaled by a factor 2 compared to zoomlevel 0. zoomlevel 3 is downscaled by a factor of 8 compared to zoomlevel 0, etc.\n",
    "\n",
    "A mosaic is created per zoomlevel of these tiles in a .vrt file.\n",
    "\n",
    "At last, a .yml file is produced which can be read by the [DataCatalog](https://deltares.github.io/hydromt/latest/_generated/hydromt.data_catalog.DataCatalog.html) of HydroMT."
   ]
  },
  {
   "attachments": {},
   "cell_type": "markdown",
   "metadata": {},
   "source": [
    "### reading tiled raster data with zoom levels\n",
    "\n",
    "With DataCatalog.[get_rasterdataset](https://deltares.github.io/hydromt/latest/_generated/hydromt.data_catalog.DataCatalog.get_rasterdataset.html) a raster (.vrt) can be retreived. In case of a tile database it can be done for a certain zoomlevel. E.g."
   ]
  },
  {
   "cell_type": "code",
   "execution_count": null,
   "metadata": {},
   "outputs": [],
   "source": [
    "# Imports\n",
    "from hydromt import DataCatalog\n",
    "\n",
    "# Load the yml into a DataCatalog\n",
    "data_catalog = DataCatalog(join(root, f\"{name}.yml\"), logger=logger)\n",
    "\n",
    "# View the structure of the DataCatalog\n",
    "data_catalog[name]"
   ]
  },
  {
   "cell_type": "code",
   "execution_count": null,
   "metadata": {},
   "outputs": [],
   "source": [
    "# without zoom_level the highest res data is fetched\n",
    "da0 = data_catalog.get_rasterdataset(name)\n",
    "da0.raster.shape"
   ]
  },
  {
   "cell_type": "code",
   "execution_count": null,
   "metadata": {},
   "outputs": [],
   "source": [
    "# Request a raster from the Datacatolog based on zoom resolution & unit\n",
    "da = data_catalog.get_rasterdataset(name, zoom_level=(1/600, 'degree'))\n",
    "\n",
    "da = data_catalog.get_rasterdataset(name, zoom_level=(1e3, 'meter'))\n"
   ]
  },
  {
   "cell_type": "code",
   "execution_count": null,
   "metadata": {},
   "outputs": [],
   "source": [
    "# We can also directly request a specific zoom level\n",
    "da = data_catalog.get_rasterdataset(name, zoom_level=zoom_levels[-1])\n",
    "print(da.raster.shape)"
   ]
  },
  {
   "cell_type": "code",
   "execution_count": null,
   "metadata": {},
   "outputs": [],
   "source": [
    "# View the data\n",
    "import matplotlib.pyplot as plt\n",
    "\n",
    "fig, (ax, ax1) = plt.subplots(1, 2, figsize=(8, 4))\n",
    "da0.raster.mask_nodata().plot.imshow(ax=ax, vmin=0, vmax=2500, add_colorbar=False)\n",
    "ax.set_title(f\"zoomlevel {zoom_levels[0]}\")\n",
    "da.raster.mask_nodata().plot.imshow(ax=ax1, vmin=0, vmax=2500, add_colorbar=False)\n",
    "ax1.set_title(f\"zoomlevel {zoom_levels[-1]}\")"
   ]
  },
  {
   "attachments": {},
   "cell_type": "markdown",
   "metadata": {},
   "source": [
    "### Caching tiled raster datasets\n",
    "\n",
    "Tiles of tiled rasterdatasets which are described by a .vrt file can be cached locally (starting from v0.7.0). \n",
    "The requested data tiles will by default be stored to ~/.hydromt_data."
   ]
  },
  {
   "cell_type": "code",
   "execution_count": null,
   "metadata": {},
   "outputs": [],
   "source": [
    "# set caching to True\n",
    "# NOTE this can also be done at initialization of the DataCatalog\n",
    "data_catalog.cache = True\n",
    "\n",
    "# request some tiles based on bbox -> note the log messages\n",
    "da0 = data_catalog.get_rasterdataset(name, bbox=[11.6, 45.3, 12.0, 46.0])"
   ]
  },
  {
   "cell_type": "code",
   "execution_count": null,
   "metadata": {},
   "outputs": [],
   "source": [
    "# if we run the same request again we will use the cached files (and download none) \n",
    "da0 = data_catalog.get_rasterdataset(name, bbox=[11.6, 45.3, 12.0, 46.0])"
   ]
  }
 ],
 "metadata": {
  "kernelspec": {
   "display_name": "hydromt-dev",
   "language": "python",
   "name": "python3"
  },
  "language_info": {
   "codemirror_mode": {
    "name": "ipython",
    "version": 3
   },
   "file_extension": ".py",
   "mimetype": "text/x-python",
   "name": "python",
   "nbconvert_exporter": "python",
   "pygments_lexer": "ipython3",
   "version": "3.10.9"
  },
  "orig_nbformat": 4,
  "vscode": {
   "interpreter": {
    "hash": "410b670d1c9629c5111115ab6ddd1f95ea051b0f1536068fc1c23c778943ba68"
   }
  }
 },
 "nbformat": 4,
 "nbformat_minor": 2
}
