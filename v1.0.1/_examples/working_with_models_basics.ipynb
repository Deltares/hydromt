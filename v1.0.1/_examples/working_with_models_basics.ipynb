{
 "cells": [
  {
   "attachments": {},
   "cell_type": "markdown",
   "metadata": {},
   "source": [
    "# Example: Working with models from CLI"
   ]
  },
  {
   "attachments": {},
   "cell_type": "markdown",
   "metadata": {},
   "source": [
    "HydroMT has the following high-level functionality from the Command Line Interface (CLI) for setting up models from raw data or adjusting models:\n",
    "\n",
    "- **building** a model: building a model from scratch.\n",
    "- **updating** a model: adding or changing model components of an existing model.\n",
    "\n",
    "Here we show how to build and update a hypothetical distributed model from the command line interface (CLI) based on the generic HydroMT **Model**."
   ]
  },
  {
   "attachments": {},
   "cell_type": "markdown",
   "metadata": {},
   "source": [
    "Lets first check which models are available in our environment:"
   ]
  },
  {
   "cell_type": "code",
   "execution_count": 1,
   "metadata": {
    "execution": {
     "iopub.execute_input": "2025-03-21T15:11:16.124131Z",
     "iopub.status.busy": "2025-03-21T15:11:16.124022Z",
     "iopub.status.idle": "2025-03-21T15:11:17.893042Z",
     "shell.execute_reply": "2025-03-21T15:11:17.892473Z"
    }
   },
   "outputs": [
    {
     "name": "stdout",
     "output_type": "stream",
     "text": [
      "Usage: hydromt [OPTIONS] COMMAND [ARGS]...\r\n",
      "\r\n",
      "  Command line interface for hydromt models.\r\n",
      "\r\n",
      "Options:\r\n",
      "  --version     Show the version and exit.\r\n",
      "  --models      Print available model plugins and exit.\r\n",
      "  --components  Print available component plugins and exit.\r\n",
      "  --plugins     Print available component plugins and exit.\r\n",
      "  --help        Show this message and exit.\r\n",
      "\r\n",
      "Commands:\r\n",
      "  build   Build models\r\n",
      "  check   Validate config / data catalog / region\r\n",
      "  export  Export data\r\n",
      "  update  Update models\r\n"
     ]
    }
   ],
   "source": [
    "!hydromt --help"
   ]
  },
  {
   "cell_type": "code",
   "execution_count": 2,
   "metadata": {
    "execution": {
     "iopub.execute_input": "2025-03-21T15:11:17.895071Z",
     "iopub.status.busy": "2025-03-21T15:11:17.894908Z",
     "iopub.status.idle": "2025-03-21T15:11:19.697327Z",
     "shell.execute_reply": "2025-03-21T15:11:19.696859Z"
    }
   },
   "outputs": [
    {
     "name": "stdout",
     "output_type": "stream",
     "text": [
      "Model plugins:\r\n",
      "\t- model (hydromt 1.0.1.dev0)\r\n"
     ]
    }
   ],
   "source": [
    "!hydromt --models"
   ]
  },
  {
   "cell_type": "code",
   "execution_count": 3,
   "metadata": {
    "execution": {
     "iopub.execute_input": "2025-03-21T15:11:19.699033Z",
     "iopub.status.busy": "2025-03-21T15:11:19.698915Z",
     "iopub.status.idle": "2025-03-21T15:11:21.493832Z",
     "shell.execute_reply": "2025-03-21T15:11:21.493410Z"
    }
   },
   "outputs": [
    {
     "name": "stdout",
     "output_type": "stream",
     "text": [
      "Component plugins:\r\n",
      "\t- ConfigComponent (hydromt 1.0.1.dev0)\r\n",
      "\t- DatasetsComponent (hydromt 1.0.1.dev0)\r\n",
      "\t- GeomsComponent (hydromt 1.0.1.dev0)\r\n",
      "\t- GridComponent (hydromt 1.0.1.dev0)\r\n",
      "\t- MeshComponent (hydromt 1.0.1.dev0)\r\n",
      "\t- SpatialDatasetsComponent (hydromt 1.0.1.dev0)\r\n",
      "\t- TablesComponent (hydromt 1.0.1.dev0)\r\n",
      "\t- VectorComponent (hydromt 1.0.1.dev0)\r\n"
     ]
    }
   ],
   "source": [
    "!hydromt --components"
   ]
  },
  {
   "attachments": {},
   "cell_type": "markdown",
   "metadata": {},
   "source": [
    "## Build a model from CLI"
   ]
  },
  {
   "attachments": {},
   "cell_type": "markdown",
   "metadata": {},
   "source": [
    "TBC"
   ]
  }
 ],
 "metadata": {
  "kernelspec": {
   "display_name": "Python 3 (ipykernel)",
   "language": "python",
   "name": "python3"
  },
  "language_info": {
   "codemirror_mode": {
    "name": "ipython",
    "version": 3
   },
   "file_extension": ".py",
   "mimetype": "text/x-python",
   "name": "python",
   "nbconvert_exporter": "python",
   "pygments_lexer": "ipython3",
   "version": "3.9.21"
  },
  "vscode": {
   "interpreter": {
    "hash": "4107911daee865ab8b23da348e7348b24a775bdb6009ea2571458b9eceb9e334"
   }
  }
 },
 "nbformat": 4,
 "nbformat_minor": 4
}
